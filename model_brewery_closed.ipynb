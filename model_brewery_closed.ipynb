{
 "cells": [
  {
   "cell_type": "code",
   "execution_count": null,
   "metadata": {},
   "outputs": [],
   "source": [
    "import pandas as pd\n",
    "import numpy as np\n",
    "import matplotlib.pyplot as plt\n",
    "import seaborn as sns\n",
    "from sklearn.metrics import confusion_matrix\n",
    "\n",
    "brewery_2022_interpolated = pd.read_csv(\"Data/brewery_production_2022_interpolated.csv\")\n",
    "brewery_2017_2019 = pd.read_csv(\"Data/brewery_production_2017_2019.csv\")\n",
    "wa_breweries_with_ratings = pd.read_csv(\"Data/wa_breweries_with_ratings.csv\")\n",
    "wa_breweries_with_ratings = wa_breweries_with_ratings[[\"brewery\", \"rating\", \"total_visits\", \"unique_visits\", \"leg_district\"]]\n",
    "wa_breweries_with_ratings['customer_loyalty'] = wa_breweries_with_ratings['total_visits'] / wa_breweries_with_ratings['unique_visits']"
   ]
  },
  {
   "cell_type": "code",
   "execution_count": null,
   "metadata": {},
   "outputs": [],
   "source": [
    "brewery_2022_interpolated.columns"
   ]
  },
  {
   "cell_type": "code",
   "execution_count": null,
   "metadata": {},
   "outputs": [],
   "source": [
    "brewery_2022_interpolated[\"closed_since_2022\"].value_counts()"
   ]
  },
  {
   "cell_type": "code",
   "execution_count": null,
   "metadata": {},
   "outputs": [],
   "source": [
    "brewery_2022_total = pd.DataFrame({\n",
    "    \"brewery_name\": brewery_2022_interpolated[\"brewery\"], \n",
    "    \"annual_production\": brewery_2022_interpolated[\"total_annual\"],\n",
    "    \"year\": 2022,\n",
    "    \"estimate\": 1\n",
    "})\n"
   ]
  },
  {
   "cell_type": "code",
   "execution_count": null,
   "metadata": {},
   "outputs": [],
   "source": [
    "brewery_2017_2022 = pd.concat([brewery_2022_total, brewery_2017_2019])"
   ]
  },
  {
   "cell_type": "code",
   "execution_count": null,
   "metadata": {},
   "outputs": [],
   "source": [
    "def num_handler(s):\n",
    "    if s == \"DNP\" or s == \"Do Not Publish\":\n",
    "        return np.nan\n",
    "    if type(s) == str:\n",
    "        s = s.replace(\",\", \"\")\n",
    "    return float(s)"
   ]
  },
  {
   "cell_type": "code",
   "execution_count": null,
   "metadata": {},
   "outputs": [],
   "source": [
    "brewery_2017_2022"
   ]
  },
  {
   "cell_type": "code",
   "execution_count": null,
   "metadata": {},
   "outputs": [],
   "source": [
    "brewery_production_trend = pd.DataFrame(brewery_2017_2022.groupby(\"brewery_name\")[\"annual_production\"].agg(lambda x: np.nan if len(x) == 1 else np.polyfit(np.arange(len(x)), np.array(list(map(lambda v: num_handler(v) ,x.values[::-1]))), 1)[0] / num_handler(x.iloc[-1])))\n",
    "brewery_production_trend.rename(columns={\"annual_production\": \"production_trend\"}, inplace=True)\n",
    "brewery_production_trend.fillna(0, inplace=True)\n",
    "brewery_production_size = pd.DataFrame(brewery_2017_2022.groupby(\"brewery_name\")[\"annual_production\"].agg(lambda x: np.sum(list(map(lambda v: num_handler(v) ,x.values)))/len(x)))\n",
    "# categorize brewery production by percentile\n",
    "brewery_production_size.fillna(0, inplace=True)\n",
    "brewery_production_size.rename(columns={\"annual_production\": \"production_size\"}, inplace=True)\n",
    "brewery_production_stat = pd.concat([brewery_production_trend, brewery_production_size], axis=1)"
   ]
  },
  {
   "cell_type": "code",
   "execution_count": null,
   "metadata": {},
   "outputs": [],
   "source": [
    "rawDF = pd.merge(brewery_2022_interpolated, brewery_production_stat, left_on=\"brewery\", right_on=\"brewery_name\", how=\"inner\")\n",
    "rawDF = pd.merge(rawDF, wa_breweries_with_ratings, left_on=\"brewery\", right_on=\"brewery\", how=\"inner\")"
   ]
  },
  {
   "cell_type": "code",
   "execution_count": null,
   "metadata": {},
   "outputs": [],
   "source": [
    "rawDF[rawDF['closed_since_2022'] == 1]"
   ]
  },
  {
   "cell_type": "code",
   "execution_count": null,
   "metadata": {},
   "outputs": [],
   "source": [
    "dataDF = rawDF[[\"brewery\", 'brewery_type', 'city', 'county', 'latitude', 'longitude', 'leg_district',\n",
    "       'year_established', 'guild_member',\n",
    "       'closed_since_2022', \"total_annual\", \"production_trend\", \"production_size\", \"rating\", \"customer_loyalty\", \"total_visits\"]]\n",
    "dataDF['total_annual'] = dataDF['total_annual'].fillna(0)\n",
    "dataDF['year_established'] = dataDF['year_established'].apply(lambda x: 2022 - x + 1)\n",
    "dataDF['average_visits'] = dataDF['total_visits'] / dataDF['year_established']\n",
    "dataDF['leg_district'] = dataDF[\"leg_district\"].astype(\"category\")"
   ]
  },
  {
   "cell_type": "code",
   "execution_count": null,
   "metadata": {},
   "outputs": [],
   "source": [
    "dataDF.columns"
   ]
  },
  {
   "cell_type": "code",
   "execution_count": null,
   "metadata": {},
   "outputs": [],
   "source": [
    "dataDF = pd.get_dummies(dataDF[['latitude', 'longitude', 'brewery_type',\n",
    "       'year_established', 'guild_member',\n",
    "       'closed_since_2022', \"production_trend\", \"production_size\", \"rating\", \"customer_loyalty\", \"average_visits\"]])\n",
    "dataDF.dropna(inplace=True)"
   ]
  },
  {
   "cell_type": "code",
   "execution_count": null,
   "metadata": {},
   "outputs": [],
   "source": [
    "dataDF.shape"
   ]
  },
  {
   "cell_type": "code",
   "execution_count": null,
   "metadata": {},
   "outputs": [],
   "source": [
    "# find the neighbors' production sizes\n",
    "from sklearn.neighbors import NearestNeighbors\n",
    "neigh = NearestNeighbors(n_neighbors=5)\n",
    "neigh.fit(dataDF[[\"longitude\", \"latitude\"]])\n",
    "distances, indices = neigh.kneighbors(dataDF[[\"longitude\", \"latitude\"]])\n",
    "\n",
    "# get the production size of neighbors\n",
    "neighbor_production_size_mean = []\n",
    "neighbor_production_size_max = []\n",
    "neighbor_production_size_min = []\n",
    "neighbor_production_size_std = []\n",
    "for i in range(len(indices)):\n",
    "    neighbor_production_size_mean.append(dataDF.iloc[indices[i][1:]][\"production_size\"].mean())\n",
    "    neighbor_production_size_max.append(dataDF.iloc[indices[i][1:]][\"production_size\"].max())\n",
    "    neighbor_production_size_min.append(dataDF.iloc[indices[i][1:]][\"production_size\"].min())\n",
    "    neighbor_production_size_std.append(dataDF.iloc[indices[i][1:]][\"production_size\"].std())\n",
    "\n",
    "dataDF[\"neighbor_production_size_mean\"] = neighbor_production_size_mean\n",
    "dataDF[\"neighbor_production_size_max\"] = neighbor_production_size_max\n",
    "dataDF[\"neighbor_production_size_min\"] = neighbor_production_size_min\n",
    "dataDF[\"neighbor_production_size_std\"] = neighbor_production_size_std"
   ]
  },
  {
   "cell_type": "code",
   "execution_count": null,
   "metadata": {},
   "outputs": [],
   "source": [
    "# stats for breweries closed since 2022\n",
    "\n",
    "# output the aggregated result as figure with seaborn\n",
    "comparison_stat = dataDF.groupby(\"closed_since_2022\").mean()\n",
    "comparison_stat_normalized = comparison_stat / comparison_stat.sum()\n",
    "\n",
    "# plot the comparison\n",
    "fig = plt.figure(figsize=(15, 10))\n",
    "sns.set_theme(style=\"whitegrid\")\n",
    "# horizontal bar plot with closed as red and open as blue and plot each x-axis independently\n",
    "ax = comparison_stat_normalized.T.plot(kind=\"barh\", color=[\"blue\", \"red\"])\n",
    "ax.get_figure().savefig(\"Viz/Draft2/closed_vs_open.png\", bbox_inches='tight')"
   ]
  },
  {
   "cell_type": "code",
   "execution_count": null,
   "metadata": {},
   "outputs": [],
   "source": []
  },
  {
   "cell_type": "code",
   "execution_count": null,
   "metadata": {},
   "outputs": [],
   "source": [
    "dataDF[\"closed_since_2022\"].value_counts()"
   ]
  },
  {
   "cell_type": "code",
   "execution_count": null,
   "metadata": {},
   "outputs": [],
   "source": [
    "dataDF.shape"
   ]
  },
  {
   "cell_type": "code",
   "execution_count": null,
   "metadata": {},
   "outputs": [],
   "source": [
    "X = pd.get_dummies(dataDF.drop(columns=[\"closed_since_2022\", \"longitude\", \"latitude\"])).values\n",
    "y = dataDF[\"closed_since_2022\"].values"
   ]
  },
  {
   "cell_type": "code",
   "execution_count": null,
   "metadata": {},
   "outputs": [],
   "source": [
    "from sklearn.model_selection import train_test_split\n",
    "import sklearn.model_selection as skm\n",
    "from sklearn.metrics import roc_auc_score\n",
    "\n",
    "seed = 42\n",
    "X_train, X_test, y_train, y_test = train_test_split(X, y, test_size=0.1, random_state=seed)\n",
    "\n",
    "from sklearn.preprocessing import StandardScaler\n",
    "\n",
    "scaler = StandardScaler()\n",
    "X_train = scaler.fit_transform(X_train)\n",
    "X_test = scaler.transform(X_test)\n",
    "\n",
    "# from sklearn.decomposition import PCA\n",
    "\n",
    "# pca = PCA(n_components=int(np.sqrt(X.shape[1])))\n",
    "# X_train = pca.fit_transform(X_train)\n",
    "# X_test = pca.transform(X_test)\n",
    "\n",
    "from sklearn.svm import SVC\n",
    "from sklearn.metrics import accuracy_score, precision_score\n",
    "from ISLP import confusion_table\n",
    "\n",
    "# kfold grid search with skm\n",
    "# fit a support vector classifier on the training set\n",
    "svm = SVC()\n",
    "\n",
    "kfold = skm.KFold(3, \n",
    "                  random_state=seed,\n",
    "                  shuffle=True)\n",
    "grid = skm.GridSearchCV(svm,\n",
    "                        {'C':[0.01,0.1,1,5,10, 100], \"gamma\": [0.01,0.1,1,5,10,100], \"kernel\":['linear', 'rbf'], \"class_weight\":['balanced', None]},\n",
    "                        refit=True,\n",
    "                        cv=kfold,\n",
    "                        scoring='roc_auc')\n",
    "grid.fit(X_train, y_train)\n",
    "print(\"grid best params:\", grid.best_params_)\n",
    "\n",
    "best_ = grid.best_estimator_\n",
    "\n",
    "# train error rate with best model\n",
    "y_train_hat = best_.predict(X_train)\n",
    "print(\"best estimator train error:\", 1 - accuracy_score(y_train, y_train_hat))\n",
    "print(\"best estimator train auc:\", roc_auc_score(y_train, y_train_hat))\n",
    "print(\"best estimator train precision:\", precision_score(y_train, y_train_hat))\n",
    "\n",
    "# test error rate with best model\n",
    "y_test_hat = best_.predict(X_test)\n",
    "print(\"best estimator test error:\", 1 - accuracy_score(y_test, y_test_hat))\n",
    "print(\"best estimator test auc:\", roc_auc_score(y_test, y_test_hat))\n",
    "print(\"best estimator test precision:\", precision_score(y_test, y_test_hat))\n",
    "\n",
    "print(confusion_table(y_train_hat, y_train))\n",
    "print(confusion_table(y_test_hat, y_test))"
   ]
  },
  {
   "cell_type": "code",
   "execution_count": null,
   "metadata": {},
   "outputs": [],
   "source": [
    "from sklearn.inspection import permutation_importance\n",
    "perm_importance = permutation_importance(best_, X_train, y_train, n_repeats=30, random_state=seed, scoring='roc_auc')\n",
    "best_features_idx = np.arange(X.shape[1])[perm_importance.importances_mean.argsort()][-2:]"
   ]
  },
  {
   "cell_type": "code",
   "execution_count": null,
   "metadata": {},
   "outputs": [],
   "source": [
    "from matplotlib import font_manager\n",
    "import matplotlib as mpl\n",
    "# set theme\n",
    "\n",
    "# use lato font\n",
    "font_path = 'Reference/Lato/Lato-Regular.ttf'\n",
    "font_manager.fontManager.addfont(font_path)\n",
    "prop = font_manager.FontProperties(fname=font_path)\n",
    "plt.rcParams['font.family'] = 'sans-serif'\n",
    "plt.rcParams['font.sans-serif'] = prop.get_name()\n",
    "\n",
    "# set colors\n",
    "col_yellow = '#ffa400'\n",
    "col_green = '#256143'\n",
    "col_brown = '#9c5421'\n",
    "col_off_black = '#434343'\n",
    "mpl.rcParams['text.color'] = col_off_black # title and legend\n",
    "mpl.rcParams['xtick.color'] = col_off_black # tick marks\n",
    "mpl.rcParams['ytick.color'] = col_off_black # tick marks\n",
    "mpl.rcParams['axes.labelcolor'] = col_off_black # axes labels\n",
    "\n",
    "# set font sizes\n",
    "mpl.rcParams['axes.titlesize'] = 24 # title\n",
    "mpl.rcParams['axes.titleweight'] = 'bold' # title\n",
    "mpl.rcParams['axes.labelsize'] = 18 # axes labels\n",
    "mpl.rcParams['xtick.labelsize'] = 15 # tick marks\n",
    "mpl.rcParams['ytick.labelsize'] = 15 # tick marks\n",
    "mpl.rcParams['legend.title_fontsize'] = 18 # legend title\n",
    "mpl.rcParams['legend.fontsize'] = 15 # legend text\n",
    "\n",
    "# figure sizes (horizontal/vertical/square)\n",
    "figsize_v = (6,10)\n",
    "figsize_h = (10,6)"
   ]
  },
  {
   "cell_type": "code",
   "execution_count": null,
   "metadata": {},
   "outputs": [],
   "source": [
    "feature_names = dataDF.drop(columns=[\"closed_since_2022\", \"longitude\", \"latitude\"]).columns\n",
    "feature_names = np.array([' '.join(f.split(\"_\")) for f in feature_names])\n",
    "sorted_idx = perm_importance.importances_mean.argsort()\n",
    "\n",
    "# plot feature importance in box plots using the given theme\n",
    "fig, ax = plt.subplots(figsize=figsize_v)\n",
    "ax.boxplot(perm_importance.importances[sorted_idx[-10:]].T, vert=False, labels=feature_names[sorted_idx[-10:]], patch_artist=True, medianprops=dict(color=col_off_black), boxprops=dict(facecolor=col_yellow), widths=0.3)\n",
    "title = plt.title(\"Top 10 Brewery Closure \\n Feature Permutation Importances\", loc=\"center\")\n",
    "title.set_position([0.2, 2])\n",
    "plt.show()"
   ]
  },
  {
   "cell_type": "code",
   "execution_count": null,
   "metadata": {},
   "outputs": [],
   "source": [
    "fig.savefig(\"Viz/Draft2/model_closure_svm.png\", bbox_inches='tight')"
   ]
  },
  {
   "cell_type": "code",
   "execution_count": null,
   "metadata": {},
   "outputs": [],
   "source": []
  }
 ],
 "metadata": {
  "kernelspec": {
   "display_name": "Python 3",
   "language": "python",
   "name": "python3"
  },
  "language_info": {
   "codemirror_mode": {
    "name": "ipython",
    "version": 3
   },
   "file_extension": ".py",
   "mimetype": "text/x-python",
   "name": "python",
   "nbconvert_exporter": "python",
   "pygments_lexer": "ipython3",
   "version": "3.11.6"
  }
 },
 "nbformat": 4,
 "nbformat_minor": 2
}
