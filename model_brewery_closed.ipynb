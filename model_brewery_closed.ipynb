{
 "cells": [
  {
   "cell_type": "markdown",
   "metadata": {},
   "source": [
    "## Brewery Closure Model: Predicting whether brewery closes since the pandemic in 2022\n",
    "### Developed for the Washington Brewers Guild by Seattle University's MSDS Program\n",
    "Yen-Ting Chen, Hanisha Karri, McKenzie Maidl, Justus Ngunjiri\n",
    "### Last Updated: June 2024"
   ]
  },
  {
   "cell_type": "markdown",
   "metadata": {},
   "source": [
    "The datasets used for predicting the brewery closures are brewery data taken meticulously by the team members along with the community engagement data with ratings along with the covid cases that were prevalent in the different counties of Washington state. These aggregated datasets when combined together to form a cohesive source of information in contributing to the ability to predict the brewery closure as an output."
   ]
  },
  {
   "cell_type": "code",
   "execution_count": 1,
   "metadata": {},
   "outputs": [],
   "source": [
    "import pandas as pd\n",
    "import numpy as np\n",
    "import matplotlib.pyplot as plt\n",
    "import seaborn as sns\n",
    "from sklearn.metrics import confusion_matrix\n",
    "\n",
    "brewery_2022_interpolated = pd.read_csv(\"Data/brewery_production_2022_interpolated.csv\")\n",
    "brewery_2017_2019 = pd.read_csv(\"Data/brewery_production_2017_2019.csv\")\n",
    "wa_breweries_with_ratings = pd.read_csv(\"Data/wa_breweries_with_ratings.csv\")\n",
    "wa_breweries_with_ratings = wa_breweries_with_ratings[[\"brewery\", \"rating\", \"total_visits\", \"unique_visits\", \"leg_district\"]]\n",
    "wa_breweries_with_ratings['customer_loyalty'] = wa_breweries_with_ratings['total_visits'] / wa_breweries_with_ratings['unique_visits']\n",
    "wa_corona_2022 = pd.read_csv(\"Data/wa_corona_2022.csv\", index_col=None, header=0)\n",
    "\n",
    "# URL of the webpage\n",
    "url = \"https://en.wikipedia.org/wiki/List_of_municipalities_in_Washington\"\n",
    "\n",
    "# Read the tables from the webpage\n",
    "tables = pd.read_html(url)\n",
    "\n",
    "# The city population data is usually in the first table\n",
    "city_population = tables[0]\n",
    "city_population = dict(zip(city_population[\"Name\"][\"Name\"], city_population[\"Population\"][\"2020 Census[6]\"]))"
   ]
  },
  {
   "cell_type": "code",
   "execution_count": 2,
   "metadata": {},
   "outputs": [
    {
     "data": {
      "text/plain": [
       "closed_since_2022\n",
       "0    356\n",
       "1     32\n",
       "Name: count, dtype: int64"
      ]
     },
     "execution_count": 2,
     "metadata": {},
     "output_type": "execute_result"
    }
   ],
   "source": [
    "brewery_2022_interpolated[\"closed_since_2022\"].value_counts()"
   ]
  },
  {
   "cell_type": "code",
   "execution_count": 3,
   "metadata": {},
   "outputs": [],
   "source": [
    "brewery_2022_total = pd.DataFrame({\n",
    "    \"brewery_name\": brewery_2022_interpolated[\"brewery\"], \n",
    "    \"annual_production\": brewery_2022_interpolated[\"total_annual\"],\n",
    "    \"year\": 2022,\n",
    "    \"estimate\": 1\n",
    "})\n"
   ]
  },
  {
   "cell_type": "code",
   "execution_count": 4,
   "metadata": {},
   "outputs": [],
   "source": [
    "brewery_2017_2022 = pd.concat([brewery_2022_total, brewery_2017_2019])"
   ]
  },
  {
   "cell_type": "code",
   "execution_count": 5,
   "metadata": {},
   "outputs": [],
   "source": [
    "def num_handler(s):\n",
    "    if s == \"DNP\" or s == \"Do Not Publish\":\n",
    "        return np.nan\n",
    "    if type(s) == str:\n",
    "        s = s.replace(\",\", \"\")\n",
    "    return float(s)"
   ]
  },
  {
   "cell_type": "markdown",
   "metadata": {},
   "source": [
    "## Production Trends & Sizes\n",
    "\n",
    "Trends and the sizes of breweries' production were record here to generate ample features that allow the model to grasp as much information as possible admist the utilization of other basic features"
   ]
  },
  {
   "cell_type": "code",
   "execution_count": 6,
   "metadata": {},
   "outputs": [],
   "source": [
    "brewery_production_trend = pd.DataFrame(brewery_2017_2022.groupby(\"brewery_name\")[\"annual_production\"].agg(lambda x: np.nan if len(x) == 1 else np.polyfit(np.arange(len(x)), np.array(list(map(lambda v: num_handler(v) ,x.values[::-1]))), 1)[0] / num_handler(x.iloc[-1])))\n",
    "brewery_production_trend.rename(columns={\"annual_production\": \"production_trend\"}, inplace=True)\n",
    "brewery_production_trend.fillna(0, inplace=True)\n",
    "brewery_production_size = pd.DataFrame(brewery_2017_2022.groupby(\"brewery_name\")[\"annual_production\"].agg(lambda x: np.sum(list(map(lambda v: num_handler(v) ,x.values)))/len(x)))\n",
    "# categorize brewery production by percentile\n",
    "brewery_production_size.fillna(0, inplace=True)\n",
    "brewery_production_size.rename(columns={\"annual_production\": \"production_size\"}, inplace=True)\n",
    "brewery_production_stat = pd.concat([brewery_production_trend, brewery_production_size], axis=1)"
   ]
  },
  {
   "cell_type": "code",
   "execution_count": 7,
   "metadata": {},
   "outputs": [],
   "source": [
    "rawDF = pd.merge(brewery_2022_interpolated, brewery_production_stat, left_on=\"brewery\", right_on=\"brewery_name\", how=\"inner\")\n",
    "rawDF = pd.merge(rawDF, wa_breweries_with_ratings, left_on=\"brewery\", right_on=\"brewery\", how=\"inner\")\n",
    "rawDF = pd.merge(rawDF, wa_corona_2022, left_on=\"county\", right_on=\"county\", how=\"inner\")"
   ]
  },
  {
   "cell_type": "code",
   "execution_count": 8,
   "metadata": {},
   "outputs": [
    {
     "name": "stderr",
     "output_type": "stream",
     "text": [
      "C:\\Users\\david.chen\\AppData\\Local\\Temp\\ipykernel_5520\\256679623.py:4: SettingWithCopyWarning: \n",
      "A value is trying to be set on a copy of a slice from a DataFrame.\n",
      "Try using .loc[row_indexer,col_indexer] = value instead\n",
      "\n",
      "See the caveats in the documentation: https://pandas.pydata.org/pandas-docs/stable/user_guide/indexing.html#returning-a-view-versus-a-copy\n",
      "  dataDF['total_annual'] = dataDF['total_annual'].fillna(0)\n",
      "C:\\Users\\david.chen\\AppData\\Local\\Temp\\ipykernel_5520\\256679623.py:5: SettingWithCopyWarning: \n",
      "A value is trying to be set on a copy of a slice from a DataFrame.\n",
      "Try using .loc[row_indexer,col_indexer] = value instead\n",
      "\n",
      "See the caveats in the documentation: https://pandas.pydata.org/pandas-docs/stable/user_guide/indexing.html#returning-a-view-versus-a-copy\n",
      "  dataDF['year_established'] = dataDF['year_established'].apply(lambda x: 2022 - x + 1)\n",
      "C:\\Users\\david.chen\\AppData\\Local\\Temp\\ipykernel_5520\\256679623.py:6: SettingWithCopyWarning: \n",
      "A value is trying to be set on a copy of a slice from a DataFrame.\n",
      "Try using .loc[row_indexer,col_indexer] = value instead\n",
      "\n",
      "See the caveats in the documentation: https://pandas.pydata.org/pandas-docs/stable/user_guide/indexing.html#returning-a-view-versus-a-copy\n",
      "  dataDF['average_visits'] = dataDF['total_visits'] / dataDF['year_established']\n",
      "C:\\Users\\david.chen\\AppData\\Local\\Temp\\ipykernel_5520\\256679623.py:8: SettingWithCopyWarning: \n",
      "A value is trying to be set on a copy of a slice from a DataFrame.\n",
      "Try using .loc[row_indexer,col_indexer] = value instead\n",
      "\n",
      "See the caveats in the documentation: https://pandas.pydata.org/pandas-docs/stable/user_guide/indexing.html#returning-a-view-versus-a-copy\n",
      "  dataDF['leg_district_y'] = dataDF[\"leg_district_y\"].astype(\"category\")\n"
     ]
    }
   ],
   "source": [
    "dataDF = rawDF[[\"brewery\", 'brewery_type', 'city', 'county', 'latitude', 'longitude', 'leg_district_y', 'corona_cases',\n",
    "       'year_established', 'guild_member',\n",
    "       'closed_since_2022', \"total_annual\", \"production_trend\", \"production_size\", \"rating\", \"customer_loyalty\", \"total_visits\"]]\n",
    "dataDF['total_annual'] = dataDF['total_annual'].fillna(0)\n",
    "dataDF['year_established'] = dataDF['year_established'].apply(lambda x: 2022 - x + 1)\n",
    "dataDF['average_visits'] = dataDF['total_visits'] / dataDF['year_established']\n",
    "# dataDF['city_population'] = dataDF['city'].apply(lambda x: city_population[x] if x in city_population else np.nan)\n",
    "dataDF['leg_district_y'] = dataDF[\"leg_district_y\"].astype(\"category\")"
   ]
  },
  {
   "cell_type": "code",
   "execution_count": 9,
   "metadata": {},
   "outputs": [],
   "source": [
    "dataDF = pd.get_dummies(dataDF[['latitude', 'longitude', 'brewery_type', \"corona_cases\",\n",
    "       'year_established', 'guild_member',\n",
    "       'closed_since_2022', \"production_trend\", \"production_size\", \"rating\", \"customer_loyalty\", \"average_visits\"]])\n",
    "dataDF.dropna(inplace=True)"
   ]
  },
  {
   "cell_type": "markdown",
   "metadata": {},
   "source": [
    "## Aggregating Neighbor Statistics\n",
    "\n",
    "Neighbor statistics are used to highlight the fact that the beer production and success of breweries may depend on their neighbors. Given the size of brewery clusters and their dispersed production numbers, the model can find interesting pattern."
   ]
  },
  {
   "cell_type": "code",
   "execution_count": 10,
   "metadata": {},
   "outputs": [],
   "source": [
    "# find the neighbors' production sizes\n",
    "from sklearn.neighbors import NearestNeighbors\n",
    "neigh = NearestNeighbors(n_neighbors=5)\n",
    "neigh.fit(dataDF[[\"longitude\", \"latitude\"]])\n",
    "distances, indices = neigh.kneighbors(dataDF[[\"longitude\", \"latitude\"]])\n",
    "\n",
    "# get the production size of neighbors\n",
    "neighbor_production_size_mean = []\n",
    "neighbor_production_size_max = []\n",
    "neighbor_production_size_min = []\n",
    "neighbor_production_size_std = []\n",
    "for i in range(len(indices)):\n",
    "    neighbor_production_size_mean.append(dataDF.iloc[indices[i][1:]][\"production_size\"].mean())\n",
    "    neighbor_production_size_max.append(dataDF.iloc[indices[i][1:]][\"production_size\"].max())\n",
    "    neighbor_production_size_min.append(dataDF.iloc[indices[i][1:]][\"production_size\"].min())\n",
    "    neighbor_production_size_std.append(dataDF.iloc[indices[i][1:]][\"production_size\"].std())\n",
    "\n",
    "dataDF[\"neighbor_production_size_mean\"] = neighbor_production_size_mean\n",
    "dataDF[\"neighbor_production_size_max\"] = neighbor_production_size_max\n",
    "dataDF[\"neighbor_production_size_min\"] = neighbor_production_size_min\n",
    "dataDF[\"neighbor_production_size_std\"] = neighbor_production_size_std"
   ]
  },
  {
   "cell_type": "code",
   "execution_count": 11,
   "metadata": {},
   "outputs": [
    {
     "data": {
      "text/html": [
       "<div>\n",
       "<style scoped>\n",
       "    .dataframe tbody tr th:only-of-type {\n",
       "        vertical-align: middle;\n",
       "    }\n",
       "\n",
       "    .dataframe tbody tr th {\n",
       "        vertical-align: top;\n",
       "    }\n",
       "\n",
       "    .dataframe thead th {\n",
       "        text-align: right;\n",
       "    }\n",
       "</style>\n",
       "<table border=\"1\" class=\"dataframe\">\n",
       "  <thead>\n",
       "    <tr style=\"text-align: right;\">\n",
       "      <th></th>\n",
       "      <th>latitude</th>\n",
       "      <th>longitude</th>\n",
       "      <th>corona_cases</th>\n",
       "      <th>year_established</th>\n",
       "      <th>guild_member</th>\n",
       "      <th>production_trend</th>\n",
       "      <th>production_size</th>\n",
       "      <th>rating</th>\n",
       "      <th>customer_loyalty</th>\n",
       "      <th>average_visits</th>\n",
       "      <th>brewery_type_Micro</th>\n",
       "      <th>brewery_type_alt prop</th>\n",
       "      <th>brewery_type_brewpub</th>\n",
       "      <th>brewery_type_contract brewer</th>\n",
       "      <th>brewery_type_large</th>\n",
       "      <th>brewery_type_micro</th>\n",
       "      <th>brewery_type_nano</th>\n",
       "      <th>brewery_type_planning</th>\n",
       "      <th>brewery_type_regional</th>\n",
       "      <th>brewery_type_taproom</th>\n",
       "      <th>neighbor_production_size_mean</th>\n",
       "      <th>neighbor_production_size_max</th>\n",
       "      <th>neighbor_production_size_min</th>\n",
       "      <th>neighbor_production_size_std</th>\n",
       "    </tr>\n",
       "    <tr>\n",
       "      <th>closed_since_2022</th>\n",
       "      <th></th>\n",
       "      <th></th>\n",
       "      <th></th>\n",
       "      <th></th>\n",
       "      <th></th>\n",
       "      <th></th>\n",
       "      <th></th>\n",
       "      <th></th>\n",
       "      <th></th>\n",
       "      <th></th>\n",
       "      <th></th>\n",
       "      <th></th>\n",
       "      <th></th>\n",
       "      <th></th>\n",
       "      <th></th>\n",
       "      <th></th>\n",
       "      <th></th>\n",
       "      <th></th>\n",
       "      <th></th>\n",
       "      <th></th>\n",
       "      <th></th>\n",
       "      <th></th>\n",
       "      <th></th>\n",
       "      <th></th>\n",
       "    </tr>\n",
       "  </thead>\n",
       "  <tbody>\n",
       "    <tr>\n",
       "      <th>0</th>\n",
       "      <td>47.431300</td>\n",
       "      <td>-121.544136</td>\n",
       "      <td>226089.743003</td>\n",
       "      <td>10.503817</td>\n",
       "      <td>0.488550</td>\n",
       "      <td>1.390813</td>\n",
       "      <td>2069.878128</td>\n",
       "      <td>3.73369</td>\n",
       "      <td>3.145925</td>\n",
       "      <td>3862.666653</td>\n",
       "      <td>0.002545</td>\n",
       "      <td>0.007634</td>\n",
       "      <td>0.323155</td>\n",
       "      <td>0.002545</td>\n",
       "      <td>0.007634</td>\n",
       "      <td>0.358779</td>\n",
       "      <td>0.012723</td>\n",
       "      <td>0.002545</td>\n",
       "      <td>0.033079</td>\n",
       "      <td>0.249364</td>\n",
       "      <td>2101.334434</td>\n",
       "      <td>4776.172326</td>\n",
       "      <td>452.740411</td>\n",
       "      <td>2143.57040</td>\n",
       "    </tr>\n",
       "    <tr>\n",
       "      <th>1</th>\n",
       "      <td>47.385064</td>\n",
       "      <td>-120.985703</td>\n",
       "      <td>242743.857143</td>\n",
       "      <td>7.642857</td>\n",
       "      <td>0.071429</td>\n",
       "      <td>0.063621</td>\n",
       "      <td>663.508750</td>\n",
       "      <td>3.71750</td>\n",
       "      <td>2.815154</td>\n",
       "      <td>1609.340246</td>\n",
       "      <td>0.000000</td>\n",
       "      <td>0.000000</td>\n",
       "      <td>0.214286</td>\n",
       "      <td>0.000000</td>\n",
       "      <td>0.000000</td>\n",
       "      <td>0.392857</td>\n",
       "      <td>0.107143</td>\n",
       "      <td>0.000000</td>\n",
       "      <td>0.000000</td>\n",
       "      <td>0.285714</td>\n",
       "      <td>2653.980074</td>\n",
       "      <td>7978.518214</td>\n",
       "      <td>197.720119</td>\n",
       "      <td>3842.35419</td>\n",
       "    </tr>\n",
       "  </tbody>\n",
       "</table>\n",
       "</div>"
      ],
      "text/plain": [
       "                    latitude   longitude   corona_cases  year_established  \\\n",
       "closed_since_2022                                                           \n",
       "0                  47.431300 -121.544136  226089.743003         10.503817   \n",
       "1                  47.385064 -120.985703  242743.857143          7.642857   \n",
       "\n",
       "                   guild_member  production_trend  production_size   rating  \\\n",
       "closed_since_2022                                                             \n",
       "0                      0.488550          1.390813      2069.878128  3.73369   \n",
       "1                      0.071429          0.063621       663.508750  3.71750   \n",
       "\n",
       "                   customer_loyalty  average_visits  brewery_type_Micro  \\\n",
       "closed_since_2022                                                         \n",
       "0                          3.145925     3862.666653            0.002545   \n",
       "1                          2.815154     1609.340246            0.000000   \n",
       "\n",
       "                   brewery_type_alt prop  brewery_type_brewpub  \\\n",
       "closed_since_2022                                                \n",
       "0                               0.007634              0.323155   \n",
       "1                               0.000000              0.214286   \n",
       "\n",
       "                   brewery_type_contract brewer  brewery_type_large  \\\n",
       "closed_since_2022                                                     \n",
       "0                                      0.002545            0.007634   \n",
       "1                                      0.000000            0.000000   \n",
       "\n",
       "                   brewery_type_micro  brewery_type_nano  \\\n",
       "closed_since_2022                                          \n",
       "0                            0.358779           0.012723   \n",
       "1                            0.392857           0.107143   \n",
       "\n",
       "                   brewery_type_planning  brewery_type_regional  \\\n",
       "closed_since_2022                                                 \n",
       "0                               0.002545               0.033079   \n",
       "1                               0.000000               0.000000   \n",
       "\n",
       "                   brewery_type_taproom  neighbor_production_size_mean  \\\n",
       "closed_since_2022                                                        \n",
       "0                              0.249364                    2101.334434   \n",
       "1                              0.285714                    2653.980074   \n",
       "\n",
       "                   neighbor_production_size_max  neighbor_production_size_min  \\\n",
       "closed_since_2022                                                               \n",
       "0                                   4776.172326                    452.740411   \n",
       "1                                   7978.518214                    197.720119   \n",
       "\n",
       "                   neighbor_production_size_std  \n",
       "closed_since_2022                                \n",
       "0                                    2143.57040  \n",
       "1                                    3842.35419  "
      ]
     },
     "execution_count": 11,
     "metadata": {},
     "output_type": "execute_result"
    }
   ],
   "source": [
    "# show all columns\n",
    "pd.set_option('display.max_columns', None)\n",
    "dataDF.groupby(\"closed_since_2022\").mean()"
   ]
  },
  {
   "cell_type": "code",
   "execution_count": 12,
   "metadata": {},
   "outputs": [
    {
     "data": {
      "text/plain": [
       "closed_since_2022\n",
       "0    393\n",
       "1     28\n",
       "Name: count, dtype: int64"
      ]
     },
     "execution_count": 12,
     "metadata": {},
     "output_type": "execute_result"
    }
   ],
   "source": [
    "dataDF[\"closed_since_2022\"].value_counts()"
   ]
  },
  {
   "cell_type": "code",
   "execution_count": 13,
   "metadata": {},
   "outputs": [
    {
     "data": {
      "text/plain": [
       "(421, 25)"
      ]
     },
     "execution_count": 13,
     "metadata": {},
     "output_type": "execute_result"
    }
   ],
   "source": [
    "dataDF.shape"
   ]
  },
  {
   "cell_type": "code",
   "execution_count": 14,
   "metadata": {},
   "outputs": [],
   "source": [
    "X = pd.get_dummies(dataDF.drop(columns=[\"closed_since_2022\", \"longitude\", \"latitude\"])).values\n",
    "y = dataDF[\"closed_since_2022\"].values"
   ]
  },
  {
   "cell_type": "markdown",
   "metadata": {},
   "source": [
    "## Model Training and Evaluation\n",
    "\n",
    "Before piping the data into the model for training, the data is first scaled; then the model training begins. Here, we choose the support vector classifier to ensure that the model is capturing non-linear relationship in the dataset and using cross validation to accurately devise several tuned models to compare performance."
   ]
  },
  {
   "cell_type": "code",
   "execution_count": 15,
   "metadata": {},
   "outputs": [
    {
     "name": "stdout",
     "output_type": "stream",
     "text": [
      "grid best params: {'C': 0.1, 'class_weight': 'balanced', 'gamma': 1, 'kernel': 'rbf'}\n",
      "best estimator train error: 0.06845238095238093\n",
      "best estimator train auc: 0.9389838950689025\n",
      "best estimator train precision: 0.45\n",
      "best estimator test error: 0.12941176470588234\n",
      "best estimator test auc: 0.5847953216374271\n",
      "best estimator test precision: 0.3333333333333333\n",
      "Truth        0   1\n",
      "Predicted         \n",
      "0          295   1\n",
      "1           22  18\n",
      "Truth       0  1\n",
      "Predicted       \n",
      "0          72  7\n",
      "1           4  2\n"
     ]
    }
   ],
   "source": [
    "from sklearn.model_selection import train_test_split\n",
    "import sklearn.model_selection as skm\n",
    "from sklearn.metrics import roc_auc_score\n",
    "\n",
    "seed = 42\n",
    "X_train, X_test, y_train, y_test = train_test_split(X, y, test_size=0.2, random_state=seed)\n",
    "X_train = X_train.astype(float)\n",
    "X_test = X_test.astype(float)\n",
    "\n",
    "from sklearn.preprocessing import StandardScaler\n",
    "\n",
    "scaler = StandardScaler()\n",
    "scaler.fit(X_train)\n",
    "X_train = scaler.transform(X_train)\n",
    "X_test = scaler.transform(X_test)\n",
    "X_train = np.clip(X_train, -10, 10)\n",
    "X_test = np.clip(X_test, -10, 10)\n",
    "\n",
    "# from sklearn.decomposition import PCA\n",
    "\n",
    "# pca = PCA(n_components=int(np.sqrt(X.shape[1])))\n",
    "# X_train = pca.fit_transform(X_train)\n",
    "# X_test = pca.transform(X_test)\n",
    "\n",
    "# # plot scree plot of PCA\n",
    "# plt.figure(figsize=(10, 6))\n",
    "# plt.plot(np.arange(1, pca.explained_variance_ratio_.shape[0] + 1), pca.explained_variance_ratio_)\n",
    "# plt.xlabel(\"Principal Component\")\n",
    "# plt.ylabel(\"Proportion of Variance Explained\")\n",
    "# plt.title(\"Scree Plot of PCA\")\n",
    "# plt.show()\n",
    "\n",
    "from sklearn.svm import SVC\n",
    "from sklearn.metrics import accuracy_score, precision_score\n",
    "from ISLP import confusion_table\n",
    "\n",
    "# kfold grid search with skm\n",
    "# fit a support vector classifier on the training set\n",
    "svm = SVC()\n",
    "\n",
    "kfold = skm.KFold(3, \n",
    "                  random_state=seed,\n",
    "                  shuffle=True)\n",
    "grid = skm.GridSearchCV(svm,\n",
    "                        {'C':[0.01,0.1,1,5,10, 100], \"gamma\": [0.01,0.1,1,5,10,100], \"kernel\":['linear', 'rbf'], \"class_weight\":['balanced', None]},\n",
    "                        refit=True,\n",
    "                        cv=kfold,\n",
    "                        scoring='roc_auc')\n",
    "grid.fit(X_train, y_train)\n",
    "print(\"grid best params:\", grid.best_params_)\n",
    "\n",
    "best_ = grid.best_estimator_\n",
    "\n",
    "# train error rate with best model\n",
    "y_train_hat = best_.predict(X_train)\n",
    "print(\"best estimator train error:\", 1 - accuracy_score(y_train, y_train_hat))\n",
    "print(\"best estimator train auc:\", roc_auc_score(y_train, y_train_hat))\n",
    "print(\"best estimator train precision:\", precision_score(y_train, y_train_hat))\n",
    "\n",
    "# test error rate with best model\n",
    "y_test_hat = best_.predict(X_test)\n",
    "print(\"best estimator test error:\", 1 - accuracy_score(y_test, y_test_hat))\n",
    "print(\"best estimator test auc:\", roc_auc_score(y_test, y_test_hat))\n",
    "print(\"best estimator test precision:\", precision_score(y_test, y_test_hat))\n",
    "\n",
    "print(confusion_table(y_train_hat, y_train))\n",
    "print(confusion_table(y_test_hat, y_test))"
   ]
  },
  {
   "cell_type": "code",
   "execution_count": 16,
   "metadata": {},
   "outputs": [],
   "source": [
    "from sklearn.inspection import permutation_importance\n",
    "perm_importance = permutation_importance(best_, X_train, y_train, n_repeats=30, random_state=seed, scoring='roc_auc')\n",
    "best_features_idx = np.arange(X.shape[1])[perm_importance.importances_mean.argsort()][-2:]"
   ]
  },
  {
   "cell_type": "code",
   "execution_count": 17,
   "metadata": {},
   "outputs": [],
   "source": [
    "from matplotlib import font_manager\n",
    "import matplotlib as mpl\n",
    "# set theme\n",
    "\n",
    "# use lato font\n",
    "font_path = 'Reference/Lato/Lato-Regular.ttf'\n",
    "font_manager.fontManager.addfont(font_path)\n",
    "prop = font_manager.FontProperties(fname=font_path)\n",
    "plt.rcParams['font.family'] = 'sans-serif'\n",
    "plt.rcParams['font.sans-serif'] = prop.get_name()\n",
    "\n",
    "# set colors\n",
    "col_yellow = '#ffa400'\n",
    "col_green = '#256143'\n",
    "col_brown = '#9c5421'\n",
    "col_off_black = '#434343'\n",
    "mpl.rcParams['text.color'] = col_off_black # title and legend\n",
    "mpl.rcParams['xtick.color'] = col_off_black # tick marks\n",
    "mpl.rcParams['ytick.color'] = col_off_black # tick marks\n",
    "mpl.rcParams['axes.labelcolor'] = col_off_black # axes labels\n",
    "\n",
    "# set font sizes\n",
    "mpl.rcParams['axes.titlesize'] = 24 # title\n",
    "mpl.rcParams['axes.titleweight'] = 'bold' # title\n",
    "mpl.rcParams['axes.labelsize'] = 18 # axes labels\n",
    "mpl.rcParams['xtick.labelsize'] = 15 # tick marks\n",
    "mpl.rcParams['ytick.labelsize'] = 15 # tick marks\n",
    "mpl.rcParams['legend.title_fontsize'] = 18 # legend title\n",
    "mpl.rcParams['legend.fontsize'] = 15 # legend text\n",
    "\n",
    "# figure sizes (horizontal/vertical/square)\n",
    "figsize_v = (6,10)\n",
    "figsize_h = (10,6)"
   ]
  },
  {
   "cell_type": "markdown",
   "metadata": {},
   "source": [
    "## Feature Permutation Importnace\n",
    "\n",
    "The top important features are shown here for brewery closure predictions. From the aggregated statistics above, we can see that guild membership has a negative relationship toward brewery closure, rating has a negative relationship toward brewery closure, corona cases has a positive relationship toward brewery closure, customer loyalty has a negative relationship toward brewery closure, and year established has a negative relationship toward brewery closure. Since, there are nonlinear relationship, there might not be straight forward relatipnship learned by the models, but permuting their feature values do affect the predictability of the model."
   ]
  },
  {
   "cell_type": "code",
   "execution_count": 18,
   "metadata": {},
   "outputs": [
    {
     "data": {
      "image/png": "[encoded data removed]",
      "text/plain": [
       "<Figure size 1000x600 with 1 Axes>"
      ]
     },
     "metadata": {},
     "output_type": "display_data"
    }
   ],
   "source": [
    "feature_names = dataDF.drop(columns=[\"closed_since_2022\", \"longitude\", \"latitude\"]).columns\n",
    "feature_names = np.array([' '.join(f.split(\"_\")) for f in feature_names])\n",
    "sorted_idx = perm_importance.importances_mean.argsort()\n",
    "\n",
    "# plot feature importance in box plots using the given theme\n",
    "fig, ax = plt.subplots(figsize=figsize_h)\n",
    "ax.boxplot(perm_importance.importances[sorted_idx[-5:]].T, vert=False, labels=feature_names[sorted_idx[-5:]], patch_artist=True, medianprops=dict(color=col_off_black), boxprops=dict(facecolor=col_yellow), widths=0.3)\n",
    "title = plt.title(\"Top 5 Brewery Closure \\n Feature Permutation Importances\", loc=\"center\")\n",
    "plt.show()"
   ]
  },
  {
   "cell_type": "code",
   "execution_count": 19,
   "metadata": {},
   "outputs": [],
   "source": [
    "fig.savefig(\"Viz/Draft2/model_closure_svm.png\", bbox_inches='tight')"
   ]
  },
  {
   "cell_type": "code",
   "execution_count": null,
   "metadata": {},
   "outputs": [],
   "source": []
  },
  {
   "cell_type": "markdown",
   "metadata": {},
   "source": [
    "## Reference\n",
    "\n",
    "1. coronavirus cases until 2022 in Washington - https://www.wsha.org/for-patients/coronavirus/coronavirus-tracker/"
   ]
  },
  {
   "cell_type": "markdown",
   "metadata": {},
   "source": []
  }
 ],
 "metadata": {
  "kernelspec": {
   "display_name": "Python 3",
   "language": "python",
   "name": "python3"
  },
  "language_info": {
   "codemirror_mode": {
    "name": "ipython",
    "version": 3
   },
   "file_extension": ".py",
   "mimetype": "text/x-python",
   "name": "python",
   "nbconvert_exporter": "python",
   "pygments_lexer": "ipython3",
   "version": "3.11.6"
  }
 },
 "nbformat": 4,
 "nbformat_minor": 2
}
