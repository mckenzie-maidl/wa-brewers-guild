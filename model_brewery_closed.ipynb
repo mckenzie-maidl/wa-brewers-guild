{
 "cells": [
  {
   "cell_type": "code",
   "execution_count": 1,
   "metadata": {},
   "outputs": [],
   "source": [
    "import pandas as pd\n",
    "import numpy as np\n",
    "\n",
    "brewery_2022_interpolated = pd.read_csv(\"Data/brewery_production_2022_interpolated.csv\")\n",
    "brewery_2017_2019 = pd.read_csv(\"Data/brewery_production_2017_2019.csv\")"
   ]
  },
  {
   "cell_type": "code",
   "execution_count": 67,
   "metadata": {},
   "outputs": [
    {
     "data": {
      "text/plain": [
       "Index(['brewery', 'brewery_type', 'address', 'city', 'zipcode', 'county',\n",
       "       'latitude', 'longitude', 'year_established', 'guild_member',\n",
       "       'closed_since_2022', 'untappd_profile_link', 'January', 'February',\n",
       "       'March', 'April', 'May', 'June', 'July', 'August', 'September',\n",
       "       'October', 'November', 'December', 'total_annual'],\n",
       "      dtype='object')"
      ]
     },
     "execution_count": 67,
     "metadata": {},
     "output_type": "execute_result"
    }
   ],
   "source": [
    "brewery_2022_interpolated.columns"
   ]
  },
  {
   "cell_type": "code",
   "execution_count": 69,
   "metadata": {},
   "outputs": [],
   "source": [
    "brewery_2022_total = pd.DataFrame({\n",
    "    \"brewery_name\": brewery_2022_interpolated[\"brewery\"], \n",
    "    \"annual_production\": brewery_2022_interpolated[\"total_annual\"],\n",
    "    \"year\": 2022,\n",
    "    \"estimate\": 1\n",
    "})\n"
   ]
  },
  {
   "cell_type": "code",
   "execution_count": 71,
   "metadata": {},
   "outputs": [],
   "source": [
    "brewery_2017_2022 = pd.concat([brewery_2022_total, brewery_2017_2019])"
   ]
  },
  {
   "cell_type": "code",
   "execution_count": 72,
   "metadata": {},
   "outputs": [],
   "source": [
    "def num_handler(s):\n",
    "    if s == \"DNP\" or s == \"Do Not Publish\":\n",
    "        return np.nan\n",
    "    if type(s) == str:\n",
    "        s = s.replace(\",\", \"\")\n",
    "    return float(s)"
   ]
  },
  {
   "cell_type": "code",
   "execution_count": 89,
   "metadata": {},
   "outputs": [
    {
     "data": {
      "text/html": [
       "<div>\n",
       "<style scoped>\n",
       "    .dataframe tbody tr th:only-of-type {\n",
       "        vertical-align: middle;\n",
       "    }\n",
       "\n",
       "    .dataframe tbody tr th {\n",
       "        vertical-align: top;\n",
       "    }\n",
       "\n",
       "    .dataframe thead th {\n",
       "        text-align: right;\n",
       "    }\n",
       "</style>\n",
       "<table border=\"1\" class=\"dataframe\">\n",
       "  <thead>\n",
       "    <tr style=\"text-align: right;\">\n",
       "      <th></th>\n",
       "      <th>brewery_name</th>\n",
       "      <th>annual_production</th>\n",
       "      <th>year</th>\n",
       "      <th>estimate</th>\n",
       "    </tr>\n",
       "  </thead>\n",
       "  <tbody>\n",
       "    <tr>\n",
       "      <th>0</th>\n",
       "      <td>192 Brewing Company</td>\n",
       "      <td>NaN</td>\n",
       "      <td>2022.0</td>\n",
       "      <td>1.0</td>\n",
       "    </tr>\n",
       "    <tr>\n",
       "      <th>1</th>\n",
       "      <td>20 Corners Brewing Company</td>\n",
       "      <td>1481.65</td>\n",
       "      <td>2022.0</td>\n",
       "      <td>1.0</td>\n",
       "    </tr>\n",
       "    <tr>\n",
       "      <th>2</th>\n",
       "      <td>23rd Ave Brewery</td>\n",
       "      <td>NaN</td>\n",
       "      <td>2022.0</td>\n",
       "      <td>1.0</td>\n",
       "    </tr>\n",
       "    <tr>\n",
       "      <th>3</th>\n",
       "      <td>4 Stitch Brewing Company</td>\n",
       "      <td>NaN</td>\n",
       "      <td>2022.0</td>\n",
       "      <td>1.0</td>\n",
       "    </tr>\n",
       "    <tr>\n",
       "      <th>4</th>\n",
       "      <td>45 Degree Brewhouse</td>\n",
       "      <td>87.07</td>\n",
       "      <td>2022.0</td>\n",
       "      <td>1.0</td>\n",
       "    </tr>\n",
       "    <tr>\n",
       "      <th>...</th>\n",
       "      <td>...</td>\n",
       "      <td>...</td>\n",
       "      <td>...</td>\n",
       "      <td>...</td>\n",
       "    </tr>\n",
       "    <tr>\n",
       "      <th>1224</th>\n",
       "      <td>Willapa Brewing Co</td>\n",
       "      <td>155</td>\n",
       "      <td>2017.0</td>\n",
       "      <td>1.0</td>\n",
       "    </tr>\n",
       "    <tr>\n",
       "      <th>1225</th>\n",
       "      <td>Wingman Brewers</td>\n",
       "      <td>876</td>\n",
       "      <td>2017.0</td>\n",
       "      <td>1.0</td>\n",
       "    </tr>\n",
       "    <tr>\n",
       "      <th>1226</th>\n",
       "      <td>Yakima Craft Brewing Company</td>\n",
       "      <td>1,500</td>\n",
       "      <td>2017.0</td>\n",
       "      <td>0.0</td>\n",
       "    </tr>\n",
       "    <tr>\n",
       "      <th>1227</th>\n",
       "      <td>Yakima Valley Hops</td>\n",
       "      <td>5</td>\n",
       "      <td>2017.0</td>\n",
       "      <td>1.0</td>\n",
       "    </tr>\n",
       "    <tr>\n",
       "      <th>1228</th>\n",
       "      <td>Young Buck Brewing</td>\n",
       "      <td>125</td>\n",
       "      <td>2017.0</td>\n",
       "      <td>1.0</td>\n",
       "    </tr>\n",
       "  </tbody>\n",
       "</table>\n",
       "<p>1617 rows × 4 columns</p>\n",
       "</div>"
      ],
      "text/plain": [
       "                      brewery_name annual_production    year  estimate\n",
       "0              192 Brewing Company               NaN  2022.0       1.0\n",
       "1       20 Corners Brewing Company           1481.65  2022.0       1.0\n",
       "2                 23rd Ave Brewery               NaN  2022.0       1.0\n",
       "3         4 Stitch Brewing Company               NaN  2022.0       1.0\n",
       "4              45 Degree Brewhouse             87.07  2022.0       1.0\n",
       "...                            ...               ...     ...       ...\n",
       "1224            Willapa Brewing Co               155  2017.0       1.0\n",
       "1225               Wingman Brewers               876  2017.0       1.0\n",
       "1226  Yakima Craft Brewing Company             1,500  2017.0       0.0\n",
       "1227            Yakima Valley Hops                 5  2017.0       1.0\n",
       "1228            Young Buck Brewing               125  2017.0       1.0\n",
       "\n",
       "[1617 rows x 4 columns]"
      ]
     },
     "execution_count": 89,
     "metadata": {},
     "output_type": "execute_result"
    }
   ],
   "source": [
    "brewery_2017_2022"
   ]
  },
  {
   "cell_type": "code",
   "execution_count": 178,
   "metadata": {},
   "outputs": [],
   "source": [
    "brewery_production_trend = pd.DataFrame(brewery_2017_2022.groupby(\"brewery_name\")[\"annual_production\"].agg(lambda x: np.nan if len(x) == 1 else np.polyfit(np.arange(len(x)), np.array(list(map(lambda v: num_handler(v) ,x.values[::-1]))), 1)[0] / num_handler(x.iloc[-1])))\n",
    "brewery_production_trend.rename(columns={\"annual_production\": \"production_trend\"}, inplace=True)\n",
    "brewery_production_size = pd.DataFrame(brewery_2017_2022.groupby(\"brewery_name\")[\"annual_production\"].agg(lambda x: np.sum(list(map(lambda v: num_handler(v) ,x.values)))/len(x)))\n",
    "# categorize brewery production by percentile\n",
    "brewery_production_size[\"annual_production\"] = pd.qcut(brewery_production_size[\"annual_production\"], 10, labels=False)\n",
    "brewery_production_size.rename(columns={\"annual_production\": \"production_size\"}, inplace=True)\n",
    "brewery_production_stat = pd.concat([brewery_production_trend, brewery_production_size], axis=1)"
   ]
  },
  {
   "cell_type": "code",
   "execution_count": 179,
   "metadata": {},
   "outputs": [],
   "source": [
    "rawDF = pd.merge(brewery_2022_interpolated, brewery_production_stat, left_on=\"brewery\", right_on=\"brewery_name\", how=\"inner\")"
   ]
  },
  {
   "cell_type": "code",
   "execution_count": 180,
   "metadata": {},
   "outputs": [
    {
     "name": "stderr",
     "output_type": "stream",
     "text": [
      "C:\\Users\\david.chen\\AppData\\Local\\Temp\\ipykernel_22164\\3096669597.py:4: SettingWithCopyWarning: \n",
      "A value is trying to be set on a copy of a slice from a DataFrame.\n",
      "Try using .loc[row_indexer,col_indexer] = value instead\n",
      "\n",
      "See the caveats in the documentation: https://pandas.pydata.org/pandas-docs/stable/user_guide/indexing.html#returning-a-view-versus-a-copy\n",
      "  dataDF['year_established'] = dataDF['year_established'].apply(lambda x: 2022 - x)\n"
     ]
    }
   ],
   "source": [
    "dataDF = rawDF[[\"brewery\", 'brewery_type', 'city', 'county', 'latitude', 'longitude',\n",
    "       'year_established', 'guild_member',\n",
    "       'closed_since_2022', \"production_trend\", \"production_size\"]]\n",
    "dataDF['year_established'] = dataDF['year_established'].apply(lambda x: 2022 - x)"
   ]
  },
  {
   "cell_type": "code",
   "execution_count": 181,
   "metadata": {},
   "outputs": [],
   "source": [
    "dataDF = pd.get_dummies(dataDF[['brewery_type', 'latitude', 'longitude',\n",
    "       'year_established', 'guild_member',\n",
    "       'closed_since_2022', \"production_trend\", \"production_size\"]])\n",
    "dataDF.dropna(inplace=True)"
   ]
  },
  {
   "cell_type": "code",
   "execution_count": 182,
   "metadata": {},
   "outputs": [
    {
     "data": {
      "text/html": [
       "<div>\n",
       "<style scoped>\n",
       "    .dataframe tbody tr th:only-of-type {\n",
       "        vertical-align: middle;\n",
       "    }\n",
       "\n",
       "    .dataframe tbody tr th {\n",
       "        vertical-align: top;\n",
       "    }\n",
       "\n",
       "    .dataframe thead th {\n",
       "        text-align: right;\n",
       "    }\n",
       "</style>\n",
       "<table border=\"1\" class=\"dataframe\">\n",
       "  <thead>\n",
       "    <tr style=\"text-align: right;\">\n",
       "      <th></th>\n",
       "      <th>latitude</th>\n",
       "      <th>longitude</th>\n",
       "      <th>year_established</th>\n",
       "      <th>guild_member</th>\n",
       "      <th>closed_since_2022</th>\n",
       "      <th>production_trend</th>\n",
       "      <th>production_size</th>\n",
       "      <th>brewery_type_Micro</th>\n",
       "      <th>brewery_type_alt prop</th>\n",
       "      <th>brewery_type_brewpub</th>\n",
       "      <th>brewery_type_contract brewer</th>\n",
       "      <th>brewery_type_large</th>\n",
       "      <th>brewery_type_micro</th>\n",
       "      <th>brewery_type_nano</th>\n",
       "      <th>brewery_type_planning</th>\n",
       "      <th>brewery_type_regional</th>\n",
       "      <th>brewery_type_taproom</th>\n",
       "    </tr>\n",
       "  </thead>\n",
       "  <tbody>\n",
       "    <tr>\n",
       "      <th>1</th>\n",
       "      <td>47.765067</td>\n",
       "      <td>-122.151015</td>\n",
       "      <td>6</td>\n",
       "      <td>0</td>\n",
       "      <td>0</td>\n",
       "      <td>0.052361</td>\n",
       "      <td>8.0</td>\n",
       "      <td>0</td>\n",
       "      <td>0</td>\n",
       "      <td>1</td>\n",
       "      <td>0</td>\n",
       "      <td>0</td>\n",
       "      <td>0</td>\n",
       "      <td>0</td>\n",
       "      <td>0</td>\n",
       "      <td>0</td>\n",
       "      <td>0</td>\n",
       "    </tr>\n",
       "    <tr>\n",
       "      <th>5</th>\n",
       "      <td>47.717587</td>\n",
       "      <td>-117.432850</td>\n",
       "      <td>2</td>\n",
       "      <td>0</td>\n",
       "      <td>1</td>\n",
       "      <td>0.182832</td>\n",
       "      <td>5.0</td>\n",
       "      <td>0</td>\n",
       "      <td>0</td>\n",
       "      <td>0</td>\n",
       "      <td>0</td>\n",
       "      <td>0</td>\n",
       "      <td>0</td>\n",
       "      <td>0</td>\n",
       "      <td>0</td>\n",
       "      <td>0</td>\n",
       "      <td>1</td>\n",
       "    </tr>\n",
       "    <tr>\n",
       "      <th>7</th>\n",
       "      <td>45.564832</td>\n",
       "      <td>-122.327074</td>\n",
       "      <td>7</td>\n",
       "      <td>0</td>\n",
       "      <td>0</td>\n",
       "      <td>0.259029</td>\n",
       "      <td>9.0</td>\n",
       "      <td>0</td>\n",
       "      <td>0</td>\n",
       "      <td>1</td>\n",
       "      <td>0</td>\n",
       "      <td>0</td>\n",
       "      <td>0</td>\n",
       "      <td>0</td>\n",
       "      <td>0</td>\n",
       "      <td>0</td>\n",
       "      <td>0</td>\n",
       "    </tr>\n",
       "    <tr>\n",
       "      <th>9</th>\n",
       "      <td>47.242638</td>\n",
       "      <td>-122.439135</td>\n",
       "      <td>13</td>\n",
       "      <td>1</td>\n",
       "      <td>0</td>\n",
       "      <td>-0.110804</td>\n",
       "      <td>9.0</td>\n",
       "      <td>0</td>\n",
       "      <td>0</td>\n",
       "      <td>0</td>\n",
       "      <td>0</td>\n",
       "      <td>0</td>\n",
       "      <td>0</td>\n",
       "      <td>0</td>\n",
       "      <td>0</td>\n",
       "      <td>0</td>\n",
       "      <td>1</td>\n",
       "    </tr>\n",
       "    <tr>\n",
       "      <th>10</th>\n",
       "      <td>47.237965</td>\n",
       "      <td>-122.293459</td>\n",
       "      <td>1</td>\n",
       "      <td>1</td>\n",
       "      <td>0</td>\n",
       "      <td>0.229702</td>\n",
       "      <td>5.0</td>\n",
       "      <td>0</td>\n",
       "      <td>0</td>\n",
       "      <td>0</td>\n",
       "      <td>0</td>\n",
       "      <td>0</td>\n",
       "      <td>0</td>\n",
       "      <td>0</td>\n",
       "      <td>0</td>\n",
       "      <td>0</td>\n",
       "      <td>1</td>\n",
       "    </tr>\n",
       "  </tbody>\n",
       "</table>\n",
       "</div>"
      ],
      "text/plain": [
       "     latitude   longitude  year_established  guild_member  closed_since_2022  \\\n",
       "1   47.765067 -122.151015                 6             0                  0   \n",
       "5   47.717587 -117.432850                 2             0                  1   \n",
       "7   45.564832 -122.327074                 7             0                  0   \n",
       "9   47.242638 -122.439135                13             1                  0   \n",
       "10  47.237965 -122.293459                 1             1                  0   \n",
       "\n",
       "    production_trend  production_size  brewery_type_Micro  \\\n",
       "1           0.052361              8.0                   0   \n",
       "5           0.182832              5.0                   0   \n",
       "7           0.259029              9.0                   0   \n",
       "9          -0.110804              9.0                   0   \n",
       "10          0.229702              5.0                   0   \n",
       "\n",
       "    brewery_type_alt prop  brewery_type_brewpub  brewery_type_contract brewer  \\\n",
       "1                       0                     1                             0   \n",
       "5                       0                     0                             0   \n",
       "7                       0                     1                             0   \n",
       "9                       0                     0                             0   \n",
       "10                      0                     0                             0   \n",
       "\n",
       "    brewery_type_large  brewery_type_micro  brewery_type_nano  \\\n",
       "1                    0                   0                  0   \n",
       "5                    0                   0                  0   \n",
       "7                    0                   0                  0   \n",
       "9                    0                   0                  0   \n",
       "10                   0                   0                  0   \n",
       "\n",
       "    brewery_type_planning  brewery_type_regional  brewery_type_taproom  \n",
       "1                       0                      0                     0  \n",
       "5                       0                      0                     1  \n",
       "7                       0                      0                     0  \n",
       "9                       0                      0                     1  \n",
       "10                      0                      0                     1  "
      ]
     },
     "execution_count": 182,
     "metadata": {},
     "output_type": "execute_result"
    }
   ],
   "source": [
    "dataDF.head()"
   ]
  },
  {
   "cell_type": "code",
   "execution_count": 183,
   "metadata": {},
   "outputs": [
    {
     "data": {
      "text/plain": [
       "(266, 17)"
      ]
     },
     "execution_count": 183,
     "metadata": {},
     "output_type": "execute_result"
    }
   ],
   "source": [
    "dataDF.shape"
   ]
  },
  {
   "cell_type": "code",
   "execution_count": 184,
   "metadata": {},
   "outputs": [],
   "source": [
    "X = pd.get_dummies(dataDF.drop(columns=[\"closed_since_2022\"])).values\n",
    "y = dataDF[\"closed_since_2022\"].values"
   ]
  },
  {
   "cell_type": "code",
   "execution_count": 185,
   "metadata": {},
   "outputs": [
    {
     "data": {
      "text/plain": [
       "0    254\n",
       "1     12\n",
       "Name: closed_since_2022, dtype: int64"
      ]
     },
     "execution_count": 185,
     "metadata": {},
     "output_type": "execute_result"
    }
   ],
   "source": [
    "dataDF[\"closed_since_2022\"].value_counts()"
   ]
  },
  {
   "cell_type": "code",
   "execution_count": 191,
   "metadata": {},
   "outputs": [],
   "source": [
    "from sklearn.model_selection import train_test_split\n",
    "\n",
    "X_train, X_test, y_train, y_test = train_test_split(X, y, test_size=0.2, random_state=42)\n",
    "\n",
    "from sklearn.preprocessing import StandardScaler\n",
    "\n",
    "scaler = StandardScaler()\n",
    "X_train = scaler.fit_transform(X_train)\n",
    "X_test = scaler.transform(X_test)\n",
    "\n",
    "from sklearn.decomposition import PCA\n",
    "\n",
    "pca = PCA(n_components=int(np.sqrt(X.shape[1])))\n",
    "X_train = pca.fit_transform(X_train)\n",
    "X_test = pca.transform(X_test)\n"
   ]
  },
  {
   "cell_type": "code",
   "execution_count": 192,
   "metadata": {},
   "outputs": [
    {
     "name": "stdout",
     "output_type": "stream",
     "text": [
      "grid best params: {'C': 1, 'class_weight': 'balanced', 'gamma': 100, 'kernel': 'rbf'}\n",
      "best estimator train error: 0.0\n",
      "best estimator test error: 0.01851851851851849\n"
     ]
    }
   ],
   "source": [
    "from sklearn.svm import SVC\n",
    "from sklearn.metrics import accuracy_score\n",
    "\n",
    "import sklearn.model_selection as skm\n",
    "from ISLP import load_data, confusion_table\n",
    "from sklearn.svm import SVC\n",
    "\n",
    "# fit a support vector classifier on the training set\n",
    "svm = SVC(kernel=\"rbf\")\n",
    "kfold = skm.KFold(5, \n",
    "                  random_state=0,\n",
    "                  shuffle=True)\n",
    "grid = skm.GridSearchCV(svm,\n",
    "                        {'C':[0.01,0.1,1,5,10,100], \"gamma\": [0.001, 0.01,0.1,1,5,10, 100], \"kernel\":[\"linear\", \"rbf\"], \"class_weight\":[\"balanced\"]},\n",
    "                        refit=True,\n",
    "                        cv=kfold,\n",
    "                        scoring='accuracy')\n",
    "grid.fit(X_train, y_train)\n",
    "print(\"grid best params:\", grid.best_params_)\n",
    "\n",
    "best_ = grid.best_estimator_\n",
    "# train error rate with best model\n",
    "y_train_hat = best_.predict(X_train)\n",
    "print(\"best estimator train error:\", 1 - accuracy_score(y_train, y_train_hat))\n",
    "\n",
    "# test error rate with best model\n",
    "y_test_hat = best_.predict(X_test)\n",
    "print(\"best estimator test error:\", 1 - accuracy_score(y_test, y_test_hat))"
   ]
  },
  {
   "cell_type": "code",
   "execution_count": 193,
   "metadata": {},
   "outputs": [
    {
     "data": {
      "text/plain": [
       "array([0, 1], dtype=int64)"
      ]
     },
     "execution_count": 193,
     "metadata": {},
     "output_type": "execute_result"
    }
   ],
   "source": [
    "np.unique(y_train_hat)"
   ]
  },
  {
   "cell_type": "code",
   "execution_count": 194,
   "metadata": {},
   "outputs": [
    {
     "data": {
      "text/html": [
       "<div>\n",
       "<style scoped>\n",
       "    .dataframe tbody tr th:only-of-type {\n",
       "        vertical-align: middle;\n",
       "    }\n",
       "\n",
       "    .dataframe tbody tr th {\n",
       "        vertical-align: top;\n",
       "    }\n",
       "\n",
       "    .dataframe thead th {\n",
       "        text-align: right;\n",
       "    }\n",
       "</style>\n",
       "<table border=\"1\" class=\"dataframe\">\n",
       "  <thead>\n",
       "    <tr style=\"text-align: right;\">\n",
       "      <th>Truth</th>\n",
       "      <th>0</th>\n",
       "      <th>1</th>\n",
       "    </tr>\n",
       "    <tr>\n",
       "      <th>Predicted</th>\n",
       "      <th></th>\n",
       "      <th></th>\n",
       "    </tr>\n",
       "  </thead>\n",
       "  <tbody>\n",
       "    <tr>\n",
       "      <th>0</th>\n",
       "      <td>53</td>\n",
       "      <td>1</td>\n",
       "    </tr>\n",
       "    <tr>\n",
       "      <th>1</th>\n",
       "      <td>0</td>\n",
       "      <td>0</td>\n",
       "    </tr>\n",
       "  </tbody>\n",
       "</table>\n",
       "</div>"
      ],
      "text/plain": [
       "Truth       0  1\n",
       "Predicted       \n",
       "0          53  1\n",
       "1           0  0"
      ]
     },
     "execution_count": 194,
     "metadata": {},
     "output_type": "execute_result"
    }
   ],
   "source": [
    "confusion_table(y_test_hat, y_test)"
   ]
  },
  {
   "cell_type": "code",
   "execution_count": 195,
   "metadata": {},
   "outputs": [
    {
     "data": {
      "text/html": [
       "<div>\n",
       "<style scoped>\n",
       "    .dataframe tbody tr th:only-of-type {\n",
       "        vertical-align: middle;\n",
       "    }\n",
       "\n",
       "    .dataframe tbody tr th {\n",
       "        vertical-align: top;\n",
       "    }\n",
       "\n",
       "    .dataframe thead th {\n",
       "        text-align: right;\n",
       "    }\n",
       "</style>\n",
       "<table border=\"1\" class=\"dataframe\">\n",
       "  <thead>\n",
       "    <tr style=\"text-align: right;\">\n",
       "      <th>Truth</th>\n",
       "      <th>0</th>\n",
       "      <th>1</th>\n",
       "    </tr>\n",
       "    <tr>\n",
       "      <th>Predicted</th>\n",
       "      <th></th>\n",
       "      <th></th>\n",
       "    </tr>\n",
       "  </thead>\n",
       "  <tbody>\n",
       "    <tr>\n",
       "      <th>0</th>\n",
       "      <td>201</td>\n",
       "      <td>0</td>\n",
       "    </tr>\n",
       "    <tr>\n",
       "      <th>1</th>\n",
       "      <td>0</td>\n",
       "      <td>11</td>\n",
       "    </tr>\n",
       "  </tbody>\n",
       "</table>\n",
       "</div>"
      ],
      "text/plain": [
       "Truth        0   1\n",
       "Predicted         \n",
       "0          201   0\n",
       "1            0  11"
      ]
     },
     "execution_count": 195,
     "metadata": {},
     "output_type": "execute_result"
    }
   ],
   "source": [
    "confusion_table(y_train_hat, y_train)"
   ]
  },
  {
   "cell_type": "code",
   "execution_count": null,
   "metadata": {},
   "outputs": [],
   "source": []
  }
 ],
 "metadata": {
  "kernelspec": {
   "display_name": "Python 3",
   "language": "python",
   "name": "python3"
  },
  "language_info": {
   "codemirror_mode": {
    "name": "ipython",
    "version": 3
   },
   "file_extension": ".py",
   "mimetype": "text/x-python",
   "name": "python",
   "nbconvert_exporter": "python",
   "pygments_lexer": "ipython3",
   "version": "3.11.6"
  }
 },
 "nbformat": 4,
 "nbformat_minor": 2
}
