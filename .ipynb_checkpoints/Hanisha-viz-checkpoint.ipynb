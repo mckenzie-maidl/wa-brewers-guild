{
 "cells": [
  {
   "cell_type": "code",
   "execution_count": null,
   "id": "dc936999",
   "metadata": {},
   "outputs": [],
   "source": [
    "# import statements\n",
    "import pandas as pd\n",
    "import matplotlib.pyplot as plt\n",
    "import matplotlib as mpl\n",
    "from matplotlib import font_manager\n",
    "import folium\n",
    "from folium import plugins\n",
    "from matplotlib.patches import Circle\n",
    "\n",
    "# hide warnings\n",
    "import warnings\n",
    "warnings.filterwarnings('ignore')\n",
    "\n",
    "# settings\n",
    "pd.set_option('display.max_rows', None)\n",
    "pd.set_option('display.max_columns', None)"
   ]
  },
  {
   "cell_type": "code",
   "execution_count": null,
   "id": "e32ac88a",
   "metadata": {},
   "outputs": [],
   "source": [
    "# load data\n",
    "url1 = 'https://raw.githubusercontent.com/mckenzie-maidl/wa-brewers-guild/main/Data/wa_breweries.csv'\n",
    "url2 = 'https://raw.githubusercontent.com/mckenzie-maidl/wa-brewers-guild/main/Data/Production/brewery_monthly_production_2022.csv'\n",
    "\n",
    "breweries = pd.read_csv(url1)\n",
    "prod22 = pd.read_csv(url2)"
   ]
  },
  {
   "cell_type": "code",
   "execution_count": null,
   "id": "8c8237ab",
   "metadata": {},
   "outputs": [],
   "source": [
    "prod22.head()"
   ]
  },
  {
   "cell_type": "code",
   "execution_count": null,
   "id": "19d812ee",
   "metadata": {},
   "outputs": [],
   "source": [
    "prod22.info()"
   ]
  },
  {
   "cell_type": "code",
   "execution_count": null,
   "id": "32fd29a2",
   "metadata": {},
   "outputs": [],
   "source": [
    "breweries.head()"
   ]
  },
  {
   "cell_type": "code",
   "execution_count": null,
   "id": "f51afad9",
   "metadata": {},
   "outputs": [],
   "source": [
    "# clean data\n",
    "\n",
    "# rename production columns\n",
    "prod22 = prod22.rename(columns={\n",
    "    'BreweryInWAList':'brewery_wa',\n",
    "    'Brewery':'brewery_prod',\n",
    "    '1':'January',    '2':'February', '3':'March',     '4':'April',\n",
    "    '5':'May',        '6':'June',     '7':'July',      '8':'August',\n",
    "    '9':'September', '10':'October', '11':'November', '12':'December',\n",
    "    'total':'total_annual'})\n",
    "\n",
    "# reorder production columns\n",
    "prod22 = prod22[['brewery_wa','brewery_prod','January','February','March','April','May','June',\n",
    "         'July','August','September','October','November','December','total_annual']]\n",
    "\n",
    "# create brewery mapping field\n",
    "breweries['brewery_map'] = breweries['brewery'].str.lower()\n",
    "\n",
    "# get primary brewery locations\n",
    "breweries_primary = breweries[breweries['flagship'] == 1]"
   ]
  },
  {
   "cell_type": "code",
   "execution_count": null,
   "id": "a47e6e7d",
   "metadata": {
    "scrolled": true
   },
   "outputs": [],
   "source": [
    "prod22.head()"
   ]
  },
  {
   "cell_type": "code",
   "execution_count": null,
   "id": "5c1de737",
   "metadata": {
    "scrolled": true
   },
   "outputs": [],
   "source": [
    "prod22.info()"
   ]
  },
  {
   "cell_type": "code",
   "execution_count": null,
   "id": "aa6bbaca",
   "metadata": {},
   "outputs": [],
   "source": [
    "# melt production data\n",
    "months = ['January','February','March','April','May','June','July',\n",
    "        'August','September','October','November','December','total_annual']\n",
    "\n",
    "prod22_melt = prod22.melt(id_vars=['brewery_wa','brewery_prod'], \n",
    "              value_vars=months,\n",
    "              var_name='month',value_name='production')\n",
    "\n",
    "# create custom sort\n",
    "prod22_melt['month'] = pd.Categorical(prod22_melt['month'], months)\n",
    "prod22_melt = prod22_melt.sort_values(by=['brewery_wa','month']).reset_index()\n",
    "\n",
    "prod22_melt.head()"
   ]
  },
  {
   "cell_type": "code",
   "execution_count": null,
   "id": "64070c82",
   "metadata": {},
   "outputs": [],
   "source": [
    "# merge dataframes\n",
    "cols1 = ['brewery','brewery_type','address','city','zipcode',\n",
    "        'county','latitude','longitude','year_established','guild_member',\n",
    "        'closed_since_2022','untappd_profile_link',\n",
    "        'January','February','March','April','May', 'June','July','August',\n",
    "        'September','October','November','December','total_annual']\n",
    "brewery_production_2022 = breweries_primary.merge(prod22, left_on='brewery_map', right_on='brewery_wa')\n",
    "brewery_production_2022 = brewery_production_2022[cols1]\n",
    "\n",
    "cols2 = ['brewery','brewery_type','address','city','zipcode',\n",
    "        'county','latitude','longitude','year_established','guild_member',\n",
    "        'closed_since_2022','untappd_profile_link',\n",
    "        'month','production']\n",
    "brewery_production_2022_melted = breweries_primary.merge(prod22_melt, left_on='brewery_map', right_on='brewery_wa')\n",
    "brewery_production_2022_melted = brewery_production_2022_melted[cols2]"
   ]
  },
  {
   "cell_type": "code",
   "execution_count": null,
   "id": "8feee76e",
   "metadata": {},
   "outputs": [],
   "source": [
    "brewery_production_2022.head()"
   ]
  },
  {
   "cell_type": "code",
   "execution_count": null,
   "id": "c80b580e",
   "metadata": {},
   "outputs": [],
   "source": [
    "brewery_production_2022_melted.head()"
   ]
  },
  {
   "cell_type": "code",
   "execution_count": null,
   "id": "f160afd5",
   "metadata": {},
   "outputs": [],
   "source": [
    "# save data\n",
    "brewery_production_2022.to_csv('brewery_production_2022.csv', index=False)\n",
    "brewery_production_2022_melted.to_csv('brewery_production_2022_melted.csv', index=False)"
   ]
  },
  {
   "cell_type": "code",
   "execution_count": null,
   "id": "7f7fd9c6",
   "metadata": {},
   "outputs": [],
   "source": [
    "# count months with nulls\n",
    "brewery_production_2022_melted[['brewery','month','production']].groupby(['brewery'])['production'].count()-1"
   ]
  },
  {
   "cell_type": "code",
   "execution_count": null,
   "id": "4dd0cc46",
   "metadata": {},
   "outputs": [],
   "source": [
    "# get months with nulls\n",
    "brewery_production_2022_melted[['brewery','month','production']].groupby(['month'])['production'].count()"
   ]
  },
  {
   "cell_type": "markdown",
   "id": "05f9e634",
   "metadata": {},
   "source": [
    "\n",
    "\n",
    "## Map of breweries that have closed since 2022"
   ]
  },
  {
   "cell_type": "code",
   "execution_count": null,
   "id": "097b32be",
   "metadata": {},
   "outputs": [],
   "source": [
    "import folium\n",
    "\n",
    "# Filter breweries closed since 2022\n",
    "closed_breweries_df = breweries[breweries['closed_since_2022'] == 1]\n",
    "\n",
    "# Create a map centered around Washington state\n",
    "map_breweries = folium.Map(location=[47.6062, -122.3321], zoom_start=7)\n",
    "\n",
    "# Add Washington state border\n",
    "wa = folium.GeoJson('WA_State_Boundary.geojson', style_function=lambda feature: {\n",
    "        'fillColor': '#ffa400',\n",
    "        'color': '#434343',\n",
    "        'weight': 1.5})\n",
    "wa.add_to(map_breweries)\n",
    "\n",
    "# Add legislative districts\n",
    "districts = folium.GeoJson('legislative_districts.geojson', style_function=lambda feature: {\n",
    "        'fillColor': '#ffa400',\n",
    "        'color': '#9c5421', \n",
    "        'weight': 1})\n",
    "districts.add_to(map_breweries)\n",
    "\n",
    "# Add markers for closed breweries\n",
    "for index, row in closed_breweries_df.iterrows():\n",
    "    popup_text = f\"{row['brewery']} - {row['city']}, {row['county']}\"\n",
    "    marker = folium.Marker(location=[row['latitude'], row['longitude']], popup=popup_text, icon=folium.Icon(color='darkgreen'))\n",
    "    map_breweries.add_child(marker)\n",
    "\n",
    "# Add title\n",
    "title_html = '''\n",
    "             <h3 align=\"center\" style=\"font-size:16px\"><b>Closed Breweries in Washington State since 2022</b></h3>\n",
    "             '''\n",
    "map_breweries.get_root().html.add_child(folium.Element(title_html))\n",
    "\n",
    "# Display the map\n",
    "map_breweries\n"
   ]
  },
  {
   "cell_type": "code",
   "execution_count": null,
   "id": "554ae883",
   "metadata": {},
   "outputs": [],
   "source": [
    "map_breweries.save(\"breweries_map.html\")"
   ]
  },
  {
   "cell_type": "code",
   "execution_count": null,
   "id": "53c73057",
   "metadata": {},
   "outputs": [],
   "source": []
  },
  {
   "cell_type": "code",
   "execution_count": null,
   "id": "1e5391f7",
   "metadata": {},
   "outputs": [],
   "source": [
    "\n"
   ]
  },
  {
   "cell_type": "markdown",
   "id": "13f03682",
   "metadata": {},
   "source": [
    "## Brewery Production map"
   ]
  },
  {
   "cell_type": "code",
   "execution_count": null,
   "id": "4ae8449a",
   "metadata": {},
   "outputs": [],
   "source": [
    "\n",
    "    \n",
    "# load data\n",
    "prod22 = pd.read_csv('brewery_production_2022_interpolated.csv')\n",
    "\n",
    "# remove null total counts\n",
    "prod22_complete = prod22.loc[~prod22['total_annual'].isnull()].copy()\n",
    "\n",
    "sales = pd.read_csv('TTB_QuarterlyBeerStateStatisticalReleases.csv')\n",
    "\n"
   ]
  },
  {
   "cell_type": "code",
   "execution_count": null,
   "id": "e6862792",
   "metadata": {},
   "outputs": [],
   "source": [
    "import folium\n",
    "\n",
    "# Base map\n",
    "m3 = folium.Map(location=[47.17662294829637, -120.51209210927328], zoom_start=7, \n",
    "               control_scale=True, tiles='cartodbpositron')\n",
    "\n",
    "# Set colors\n",
    "col_yellow = '#ffa400'\n",
    "col_green = '#256143'\n",
    "col_brown = '#9c5421'\n",
    "col_off_black = '#434343'\n",
    "\n",
    "# Add legislative districts\n",
    "districts = folium.GeoJson('legislative_districts.geojson', style_function=lambda feature: {\n",
    "        'fillColor': '#f0f0f0',\n",
    "        'color': '#a2abae', \n",
    "        'weight': 1})\n",
    "districts.add_to(m3)\n",
    "\n",
    "\n",
    "\n",
    "# Add Washington state border\n",
    "wa = folium.GeoJson('WA_State_Boundary.geojson', style_function=lambda feature: {\n",
    "        'fillColor': '#ffa400',\n",
    "        'color': '#434343',\n",
    "        'weight': 1.5})\n",
    "wa.add_to(m3)\n",
    "\n",
    "# Breweries by net production\n",
    "for index, row in prod22_complete.iterrows():\n",
    "    # Brewery values\n",
    "    brewery_name = row['brewery']\n",
    "    brewery_lat = row['latitude']\n",
    "    brewery_lon = row['longitude']\n",
    "    brewery_tot_prod = row['total_annual']\n",
    "    \n",
    "    # Production values\n",
    "    folium.Marker(\n",
    "        location=[brewery_lat, brewery_lon],\n",
    "        popup=brewery_name,\n",
    "        icon=folium.DivIcon(html=f\"\"\"\n",
    "            <div style=\"width: 5;\n",
    "                        height: 5;\n",
    "                        border-left: 15px solid transparent;\n",
    "                        border-right:15px solid transparent;\n",
    "                        border-bottom: {brewery_tot_prod/1000}px solid {col_yellow};\">\n",
    "            </div>\n",
    "        \"\"\")\n",
    "    ).add_to(m3)\n",
    "\n",
    "# Add title\n",
    "title_style = 'font-family:Lato, sans-serif; font-size:18px; color: #434343'\n",
    "title = 'Beer Production by WA Craft Breweries (2022)'\n",
    "e = \"<h3 align='center' style='\" + title_style + \"'>\" + title + \"</h3>\"\n",
    "m3.get_root().html.add_child(folium.Element(e))\n",
    "\n",
    "# Display map\n",
    "m3\n"
   ]
  },
  {
   "cell_type": "code",
   "execution_count": null,
   "id": "8efc5db6",
   "metadata": {},
   "outputs": [],
   "source": [
    "m3.save(\"brewery_production_map.html\")"
   ]
  },
  {
   "cell_type": "code",
   "execution_count": null,
   "id": "4c2b866c",
   "metadata": {
    "scrolled": true
   },
   "outputs": [],
   "source": [
    "import folium\n",
    "\n",
    "# Base map\n",
    "m4 = folium.Map(location=[47.17662294829637, -120.51209210927328], zoom_start=7, \n",
    "               control_scale=True, tiles='cartodbpositron')\n",
    "\n",
    "# Set colors\n",
    "col_yellow = '#ffa400'\n",
    "col_green = '#256143'\n",
    "col_brown = '#9c5421'\n",
    "col_off_black = '#434343'\n",
    "\n",
    "# Add legislative districts\n",
    "districts = folium.GeoJson('legislative_districts.geojson', style_function=lambda feature: {\n",
    "        'fillColor': '#f0f0f0',\n",
    "        'color': '#a2abae', \n",
    "        'weight': 1})\n",
    "districts.add_to(m4)\n",
    "\n",
    "# Washington border\n",
    "wa = folium.GeoJson('WA_State_Boundary.geojson', style_function=lambda feature: {\n",
    "        'fillColor': '#f0f0f0',\n",
    "        'color': col_off_black,\n",
    "        'weight': 1.5})\n",
    "wa.add_to(m4)\n",
    "\n",
    "# Breweries by net production\n",
    "for index, row in prod22_complete.iterrows():\n",
    "    # Brewery values\n",
    "    brewery_name = row['brewery']\n",
    "    brewery_lat = row['latitude']\n",
    "    brewery_lon = row['longitude']\n",
    "    brewery_tot_prod = row['total_annual']\n",
    "    \n",
    "    # Production values\n",
    "    folium.Marker(\n",
    "        location=[brewery_lat, brewery_lon],\n",
    "        popup=brewery_name,\n",
    "        icon=folium.DivIcon(html=f\"<div style='background-color:{col_yellow}; width:15px; height:{brewery_tot_prod/1000}px;'></div>\")\n",
    "    ).add_to(m4)\n",
    "    \n",
    "# Add title\n",
    "title_style = 'font-family:Lato, sans-serif; font-size:18px; color: #434343'\n",
    "title = 'Beer Production by WA Craft Breweries (2022)'\n",
    "e = \"<h3 align='center' style='\" + title_style + \"'>\" + title + \"</h3>\"\n",
    "m4.get_root().html.add_child(folium.Element(e))\n",
    "\n"
   ]
  },
  {
   "cell_type": "code",
   "execution_count": null,
   "id": "80ca4f98",
   "metadata": {},
   "outputs": [],
   "source": [
    "m4"
   ]
  },
  {
   "cell_type": "markdown",
   "id": "24417b68",
   "metadata": {},
   "source": [
    "## Beer Production by Seatle Craft Breweries"
   ]
  },
  {
   "cell_type": "code",
   "execution_count": null,
   "id": "9035fbba",
   "metadata": {},
   "outputs": [],
   "source": [
    "import folium\n",
    "\n",
    "# Base map\n",
    "m5 = folium.Map(location=[47.6062, -122.3321], zoom_start=11, \n",
    "               control_scale=True, tiles='cartodbpositron')\n",
    "\n",
    "# Set colors\n",
    "col_yellow = '#ffa400'\n",
    "col_green = '#256143'\n",
    "col_brown = '#9c5421'\n",
    "col_off_black = '#434343'\n",
    "\n",
    "# Add legislative districts\n",
    "districts = folium.GeoJson('legislative_districts.geojson', style_function=lambda feature: {\n",
    "        'fillColor': '#f0f0f0',\n",
    "        'color': '#a2abae', \n",
    "        'weight': 1})\n",
    "districts.add_to(m5)\n",
    "\n",
    "# Washington border\n",
    "wa = folium.GeoJson('WA_State_Boundary.geojson', style_function=lambda feature: {\n",
    "        'fillColor': '#f0f0f0',\n",
    "        'color': col_off_black,\n",
    "        'weight': 1.5})\n",
    "wa.add_to(m5)\n",
    "\n",
    "# Breweries by net production\n",
    "for index, row in prod22_complete.iterrows():\n",
    "    # Brewery values\n",
    "    brewery_name = row['brewery']\n",
    "    brewery_lat = row['latitude']\n",
    "    brewery_lon = row['longitude']\n",
    "    brewery_tot_prod = row['total_annual']\n",
    "    \n",
    "    # Production values\n",
    "    folium.Marker(\n",
    "        location=[brewery_lat, brewery_lon],\n",
    "        popup=brewery_name,\n",
    "        icon=folium.DivIcon(html=f\"<div style='background-color:{col_yellow}; width:20px; height:{brewery_tot_prod/1000}px;'></div>\")\n",
    "    ).add_to(m5)\n",
    "    \n",
    "# Add title\n",
    "title_style = 'font-family:Lato, sans-serif; font-size:18px; color: #434343'\n",
    "title = 'Beer Production by Seatle Craft Breweries (2022)'\n",
    "e = \"<h3 align='center' style='\" + title_style + \"'>\" + title + \"</h3>\"\n",
    "m5.get_root().html.add_child(folium.Element(e))\n",
    "\n",
    "# Display map\n",
    "m5\n"
   ]
  },
  {
   "cell_type": "markdown",
   "id": "d38877a1",
   "metadata": {},
   "source": [
    "## Beer Production by Spokane Craft Breweries"
   ]
  },
  {
   "cell_type": "code",
   "execution_count": null,
   "id": "c1393c5c",
   "metadata": {
    "scrolled": true
   },
   "outputs": [],
   "source": [
    "import folium\n",
    "\n",
    "# Base map\n",
    "m6 = folium.Map(location=[47.6588, -117.4260], zoom_start=11, \n",
    "               control_scale=True, tiles='cartodbpositron')\n",
    "\n",
    "# Set colors\n",
    "col_yellow = '#ffa400'\n",
    "col_green = '#256143'\n",
    "col_brown = '#9c5421'\n",
    "col_off_black = '#434343'\n",
    "\n",
    "# Add legislative districts\n",
    "districts = folium.GeoJson('legislative_districts.geojson', style_function=lambda feature: {\n",
    "        'fillColor': '#f0f0f0',\n",
    "        'color': '#a2abae', \n",
    "        'weight': 1})\n",
    "districts.add_to(m6)\n",
    "\n",
    "# Washington border\n",
    "wa = folium.GeoJson('WA_State_Boundary.geojson', style_function=lambda feature: {\n",
    "        'fillColor': '#f0f0f0',\n",
    "        'color': col_off_black,\n",
    "        'weight': 1.5})\n",
    "wa.add_to(m6)\n",
    "\n",
    "# Filter breweries in Spokane\n",
    "spokane_breweries = prod22_complete[prod22_complete['city'] == 'Spokane']\n",
    "\n",
    "# Breweries in Spokane by net production\n",
    "for index, row in spokane_breweries.iterrows():\n",
    "    # Brewery values\n",
    "    brewery_name = row['brewery']\n",
    "    brewery_lat = row['latitude']\n",
    "    brewery_lon = row['longitude']\n",
    "    brewery_tot_prod = row['total_annual']\n",
    "    \n",
    "    # Production values\n",
    "    folium.Marker(\n",
    "        location=[brewery_lat, brewery_lon],\n",
    "        popup=brewery_name,\n",
    "        icon=folium.DivIcon(html=f\"\"\"\n",
    "            <div style='background-color:{col_yellow}; width:20px; height:{brewery_tot_prod/1000}px; font-weight: bold;'>\n",
    "            </div>\n",
    "        \"\"\")\n",
    "    ).add_to(m6)\n",
    "    \n",
    "# Add title\n",
    "title_style = 'font-family:Lato, sans-serif; font-size:18px; color: #434343'\n",
    "title = 'Beer Production by Spokane Craft Breweries (2022)'\n",
    "e = \"<h3 align='center' style='\" + title_style + \"'>\" + title + \"</h3>\"\n",
    "m6.get_root().html.add_child(folium.Element(e))\n",
    "\n"
   ]
  },
  {
   "cell_type": "code",
   "execution_count": null,
   "id": "eb00da02",
   "metadata": {},
   "outputs": [],
   "source": [
    "# Display map\n",
    "m6\n"
   ]
  },
  {
   "cell_type": "markdown",
   "id": "9d05fced",
   "metadata": {},
   "source": [
    "## Beer Production by Yakima Craft Breweries"
   ]
  },
  {
   "cell_type": "code",
   "execution_count": null,
   "id": "4019a029",
   "metadata": {},
   "outputs": [],
   "source": [
    "import folium\n",
    "\n",
    "# Base map\n",
    "m7 = folium.Map(location=[46.6021, -120.5059], zoom_start=11, \n",
    "               control_scale=True, tiles='cartodbpositron')\n",
    "\n",
    "# Set colors\n",
    "col_yellow = '#ffa400'\n",
    "col_green = '#256143'\n",
    "col_brown = '#9c5421'\n",
    "col_off_black = '#434343'\n",
    "\n",
    "# Add legislative districts\n",
    "districts = folium.GeoJson('legislative_districts.geojson', style_function=lambda feature: {\n",
    "        'fillColor': '#f0f0f0',\n",
    "        'color': '#a2abae', \n",
    "        'weight': 1})\n",
    "districts.add_to(m7)\n",
    "\n",
    "# Washington border\n",
    "wa = folium.GeoJson('WA_State_Boundary.geojson', style_function=lambda feature: {\n",
    "        'fillColor': '#f0f0f0',\n",
    "        'color': col_off_black,\n",
    "        'weight': 1.5})\n",
    "wa.add_to(m7)\n",
    "\n",
    "# Filter breweries in Yakima\n",
    "yakima_breweries = prod22_complete[prod22_complete['city'] == 'Yakima']\n",
    "\n",
    "# Breweries in Yakima by net production\n",
    "for index, row in yakima_breweries.iterrows():\n",
    "    # Brewery values\n",
    "    brewery_name = row['brewery']\n",
    "    brewery_lat = row['latitude']\n",
    "    brewery_lon = row['longitude']\n",
    "    brewery_tot_prod = row['total_annual']\n",
    "    \n",
    "    # Production values\n",
    "    folium.Marker(\n",
    "        location=[brewery_lat, brewery_lon],\n",
    "        popup=brewery_name,\n",
    "        icon=folium.DivIcon(html=f\"<div style='background-color:{col_yellow}; width:15px; height:{brewery_tot_prod/1000}px;'></div>\")\n",
    "    ).add_to(m7)\n",
    "    \n",
    "# Add title\n",
    "title_style = 'font-family:Lato, sans-serif; font-size:18px; color: #434343'\n",
    "title = 'Beer Production by Yakima Craft Breweries (2022)'\n",
    "e = \"<h3 align='center' style='\" + title_style + \"'>\" + title + \"</h3>\"\n",
    "m7.get_root().html.add_child(folium.Element(e))\n",
    "\n",
    "# Display map\n",
    "m7\n"
   ]
  },
  {
   "cell_type": "markdown",
   "id": "0ff74e75",
   "metadata": {},
   "source": [
    "## Sales"
   ]
  },
  {
   "cell_type": "code",
   "execution_count": null,
   "id": "df9c92ed",
   "metadata": {},
   "outputs": [],
   "source": [
    "sales.head(6)"
   ]
  },
  {
   "cell_type": "code",
   "execution_count": null,
   "id": "daa32118",
   "metadata": {},
   "outputs": [],
   "source": [
    "import matplotlib.pyplot as plt\n",
    "import matplotlib as mpl\n",
    "\n",
    "# data\n",
    "sales['PercentBottleCans100'] = sales['PercentBottleCans'] * 100\n",
    "sales['PercentKegs100'] = sales['PercentKegs'] * 100\n",
    "sales['PercentPintsGrowlers100'] = sales['PercentPintsGrowlers'] * 100\n",
    "sales_sub = sales[['Year', 'PercentBottleCans100','PercentKegs100','PercentPintsGrowlers100']]\n",
    "sales_sub = sales_sub.rename(columns={'PercentBottleCans100': 'Bottles/Cans', 'PercentKegs100':'Kegs',\n",
    "                                      'PercentPintsGrowlers100': 'Pints/Growlers'}) \n",
    "sales_sub2 = sales[['Year', 'BottlesCans','Kegs','PintsGrowlers']]\n",
    "sales_sub2 = sales_sub2.rename(columns={'BottlesCans': 'Bottles/Cans', 'PintsGrowlers': 'Pints/Growlers'}) \n",
    "\n",
    "# create subplots\n",
    "fig, axes = plt.subplots(nrows=1, ncols=2, figsize=(10,6))\n",
    "fig.tight_layout(pad=5.0)\n",
    "\n",
    "p1 = sales_sub.plot(\n",
    "    # chart details\n",
    "    x='Year', \n",
    "    kind='bar', \n",
    "    stacked=True,\n",
    "    ax=axes[0],\n",
    "    \n",
    "    # labels\n",
    "    ylabel='Total Sales (%)', \n",
    "    xlabel='Year',\n",
    "    rot=0,\n",
    "    \n",
    "    # color\n",
    "    color=[col_green, col_yellow, col_brown]\n",
    ")\n",
    "\n",
    "p2 = sales_sub2.plot(\n",
    "    # chart details\n",
    "    x='Year', \n",
    "    marker='o',\n",
    "    ax=axes[1],\n",
    "    \n",
    "    # labels\n",
    "    ylabel='Total Sales (Barrels)', \n",
    "    xlabel='Year',\n",
    "    rot=0,\n",
    "    \n",
    "    # color\n",
    "    color=[col_green, col_yellow, col_brown],\n",
    "    \n",
    "    ylim = (0, 300000)\n",
    ")\n",
    "\n",
    "# thousands separators\n",
    "p2.get_yaxis().set_major_formatter(mpl.ticker.FuncFormatter(lambda x, pos: '{:,.0f}'.format(x/1000) + 'K'))\n",
    "\n",
    "# grid lines\n",
    "p1.grid(axis='y', linestyle='--', linewidth=0.5)\n",
    "p2.grid(axis='y', linestyle='--', linewidth=0.5)\n",
    "\n",
    "# one title for sub-plots\n",
    "fig.suptitle('Method of Beer Sales by Year (Washington State, 2017-2022)', y=0.95, fontsize=14)\n",
    "\n",
    "# one legend for sub-plots\n",
    "p1.get_legend().remove()\n",
    "p2.get_legend().remove()\n",
    "fig.legend([p1, p2], labels=['Bottles/Cans', 'Kegs', 'Pints/Growlers'], ncol=3, loc='lower center')\n",
    "\n",
    "# Annotating bars with counts\n",
    "for ax in [p1, p2]:\n",
    "    for container in ax.containers:\n",
    "        ax.bar_label(container, label_type='center', fmt='%d%%', color='white', fontweight='bold', fontsize = 'small')\n",
    "\n",
    "# Show plot\n",
    "plt.show()\n"
   ]
  },
  {
   "cell_type": "code",
   "execution_count": null,
   "id": "4ac79638",
   "metadata": {},
   "outputs": [],
   "source": []
  }
 ],
 "metadata": {
  "kernelspec": {
   "display_name": "Python 3 (ipykernel)",
   "language": "python",
   "name": "python3"
  },
  "language_info": {
   "codemirror_mode": {
    "name": "ipython",
    "version": 3
   },
   "file_extension": ".py",
   "mimetype": "text/x-python",
   "name": "python",
   "nbconvert_exporter": "python",
   "pygments_lexer": "ipython3",
   "version": "3.11.4"
  }
 },
 "nbformat": 4,
 "nbformat_minor": 5
}
