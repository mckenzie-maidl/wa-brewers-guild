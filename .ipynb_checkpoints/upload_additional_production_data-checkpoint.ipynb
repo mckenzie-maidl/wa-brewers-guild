{
 "cells": [
  {
   "cell_type": "code",
   "execution_count": 1,
   "id": "44bb3cf1",
   "metadata": {},
   "outputs": [],
   "source": [
    "# Import Statements\n",
    "import pandas as pd\n",
    "import numpy as np\n",
    "import difflib\n",
    "\n",
    "pd.set_option('display.max_rows', None)"
   ]
  },
  {
   "cell_type": "code",
   "execution_count": 2,
   "id": "4d042523",
   "metadata": {},
   "outputs": [],
   "source": [
    "# Brewery Data\n",
    "#print(\"\\n\".join(pd.read_csv('Data/wa_breweries.csv')['brewery'].unique()))"
   ]
  },
  {
   "cell_type": "code",
   "execution_count": 3,
   "id": "cd50878b",
   "metadata": {},
   "outputs": [],
   "source": [
    "# Production Data\n",
    "prod = pd.read_csv('Data/brewery_production_2017-2019.csv')"
   ]
  },
  {
   "cell_type": "code",
   "execution_count": 4,
   "id": "c754a567",
   "metadata": {},
   "outputs": [
    {
     "data": {
      "text/html": [
       "<div>\n",
       "<style scoped>\n",
       "    .dataframe tbody tr th:only-of-type {\n",
       "        vertical-align: middle;\n",
       "    }\n",
       "\n",
       "    .dataframe tbody tr th {\n",
       "        vertical-align: top;\n",
       "    }\n",
       "\n",
       "    .dataframe thead th {\n",
       "        text-align: right;\n",
       "    }\n",
       "</style>\n",
       "<table border=\"1\" class=\"dataframe\">\n",
       "  <thead>\n",
       "    <tr style=\"text-align: right;\">\n",
       "      <th></th>\n",
       "      <th>brewery</th>\n",
       "      <th>year</th>\n",
       "      <th>estimate</th>\n",
       "      <th>annual_production</th>\n",
       "    </tr>\n",
       "  </thead>\n",
       "  <tbody>\n",
       "    <tr>\n",
       "      <th>0</th>\n",
       "      <td>101 Brewery</td>\n",
       "      <td>2019</td>\n",
       "      <td>1</td>\n",
       "      <td>41</td>\n",
       "    </tr>\n",
       "    <tr>\n",
       "      <th>1</th>\n",
       "      <td>122 West Brewing Co.</td>\n",
       "      <td>2019</td>\n",
       "      <td>1</td>\n",
       "      <td>165</td>\n",
       "    </tr>\n",
       "    <tr>\n",
       "      <th>2</th>\n",
       "      <td>192 Brewing</td>\n",
       "      <td>2019</td>\n",
       "      <td>1</td>\n",
       "      <td>209</td>\n",
       "    </tr>\n",
       "    <tr>\n",
       "      <th>3</th>\n",
       "      <td>20 Corners Brewing LLC</td>\n",
       "      <td>2019</td>\n",
       "      <td>1</td>\n",
       "      <td>1,722</td>\n",
       "    </tr>\n",
       "    <tr>\n",
       "      <th>4</th>\n",
       "      <td>210 Brewing Co</td>\n",
       "      <td>2019</td>\n",
       "      <td>1</td>\n",
       "      <td>350</td>\n",
       "    </tr>\n",
       "  </tbody>\n",
       "</table>\n",
       "</div>"
      ],
      "text/plain": [
       "                  brewery  year  estimate annual_production\n",
       "0             101 Brewery  2019         1                41\n",
       "1    122 West Brewing Co.  2019         1               165\n",
       "2             192 Brewing  2019         1               209\n",
       "3  20 Corners Brewing LLC  2019         1             1,722\n",
       "4          210 Brewing Co  2019         1               350"
      ]
     },
     "execution_count": 4,
     "metadata": {},
     "output_type": "execute_result"
    }
   ],
   "source": [
    "prod.head()"
   ]
  },
  {
   "cell_type": "code",
   "execution_count": 5,
   "id": "35ebdedb",
   "metadata": {},
   "outputs": [],
   "source": [
    "# update brewery names\n",
    "def update_names(df):\n",
    "    \n",
    "    # remove periods\n",
    "    df['brewery'] = df['brewery'].str.replace('.','')\n",
    "    \n",
    "    # replace end 'co' with 'company'\n",
    "    df['brewery'] = np.where(df['brewery'].str[-2:] == 'Co',\n",
    "                             df['brewery'].str[:-2] + 'Company',\n",
    "                             df['brewery'])\n",
    "\n",
    "    # replace '&'' and 'and'\n",
    "    df['brewery'] = df['brewery'].str.replace('&','and')\n",
    "    \n",
    "    # remove ' LLC'\n",
    "    df['brewery'] = df['brewery'].str.replace(' LLC','')\n",
    "    \n",
    "    return df\n",
    "\n",
    "prod = update_names(prod)"
   ]
  },
  {
   "cell_type": "code",
   "execution_count": 6,
   "id": "cf793a56",
   "metadata": {},
   "outputs": [],
   "source": [
    "# prod 22 names\n",
    "names_22 = pd.read_csv('Data/brewery_production_2022.csv')['brewery_name'].unique()\n",
    "#print(\"\\n\".join(names_22))"
   ]
  },
  {
   "cell_type": "code",
   "execution_count": 7,
   "id": "74dbd2bb",
   "metadata": {},
   "outputs": [
    {
     "name": "stdout",
     "output_type": "stream",
     "text": [
      "225\n",
      "221\n"
     ]
    }
   ],
   "source": [
    "# compare brewery names\n",
    "match = []\n",
    "not_match = []\n",
    "for name in prod['brewery'].unique():\n",
    "    if name in names_22:\n",
    "        match.append(name)\n",
    "    else:\n",
    "        not_match.append(name)\n",
    "        \n",
    "print(len(match))\n",
    "print(len(not_match))\n",
    "\n",
    "# create df from match\n",
    "match1 = pd.DataFrame(np.column_stack([match, match]), \n",
    "                               columns=['brewery_production', 'brewery_name'])"
   ]
  },
  {
   "cell_type": "code",
   "execution_count": 8,
   "id": "b0179327",
   "metadata": {},
   "outputs": [],
   "source": [
    "# function for matching names\n",
    "def match_names(prod, brewery_names, cut=0.90):    \n",
    "\n",
    "    # brewery names to test from\n",
    "    names = []\n",
    "    for n in brewery_names:\n",
    "        n2 = n.lower().replace(' company','').replace(' brewery',' brewing')\n",
    "        names.append((n,n2))\n",
    "\n",
    "    # match to production data names\n",
    "    prod_name_match = []\n",
    "    for name in prod:\n",
    "        name_test = name.lower().replace(' company','').replace(' inc','').replace(\n",
    "            ' brewery',' brewing').replace(' -','').replace(' taproom','')\n",
    "        matches = difflib.get_close_matches(name_test, [n[1] for n in names], cutoff=cut)\n",
    "        if len(matches) > 0:\n",
    "            m = matches[0]\n",
    "            best_match = [n[0] for n in names if n[1] == m][0]\n",
    "        else:\n",
    "            best_match = None\n",
    "        prod_name_match.append((name, best_match))\n",
    "        \n",
    "    return pd.DataFrame(prod_name_match, columns =['brewery_production', 'brewery_name'])"
   ]
  },
  {
   "cell_type": "code",
   "execution_count": 9,
   "id": "35e3baa7",
   "metadata": {},
   "outputs": [],
   "source": [
    "# second round of matching\n",
    "match2 = match_names(not_match, names_22)\n",
    "match2 = match2[(~match2['brewery_name'].isna()) & (~match2['brewery_name'].isin(\n",
    "    ['Backwoods Brewing Company','Wild Man Brewing Company']))]"
   ]
  },
  {
   "cell_type": "code",
   "execution_count": 10,
   "id": "ab0e2178",
   "metadata": {},
   "outputs": [],
   "source": [
    "# manually match rest\n",
    "not_match2 = np.setdiff1d(not_match, match2['brewery_production'].unique()).tolist()\n",
    "#print(\"\\n\".join(not_match2))"
   ]
  },
  {
   "cell_type": "code",
   "execution_count": 11,
   "id": "7109d926",
   "metadata": {},
   "outputs": [],
   "source": [
    "match3list = [\n",
    "    (\"54-40 Brewing Company\", \"54°40' Brewing Company\"),\n",
    "    (\"Ale Spike\", \"Ale Spike Camano Island Brewing\"),\n",
    "    (\"Anacortes Brewery/Rockfish Grill\", \"Anacortes Brewery\"),\n",
    "    (\"Atwood Ales\", \"Atwood Farm Brewery\"),\n",
    "    (\"Bainbridge Island Brewing\", \"Bainbridge Brewing Company\"),\n",
    "    (\"Bardic Brewing\", \"Bardic Brewing and Cider\"),\n",
    "    (\"Belltown Brewing\", \"Belltown Brewery\"),\n",
    "    (\"Bent Bine Brew Co\", \"Bent Bine Brewing Company\"),\n",
    "    (\"Big Barn Brewing Co / Bodacious Berries Fruits and Brews\", \"Big Barn Brewing Company\"),\n",
    "    (\"Boundary Bay Brewery and Bistro\", \"Boundary Bay Brewery\"),\n",
    "    (\"BrewBakers Brewery\", \"Brewbakers Brewing Company\"),\n",
    "    (\"Bron Yr Aur Brewing\", \"Bron Yr Aur Brewing Company\"),\n",
    "    (\"Cardinal Craft Brewing Academy/ Skagit Valley College\", \"Cardinal Craft Brewing\"),\n",
    "    (\"Cascadia Brewing Co \", \"Cascadia Brewing Company \"),\n",
    "    (\"Columbia Valley Brewing\", \"Columbia Valley Brewing Company\"),\n",
    "    (\"Craft Brewing Academy/ Skagit Valley College \", \"Craft Brewing Academy/Skagit Valley College\"),\n",
    "    (\"Diamond Knot Brewery B2 Brewery and Taproom\", \"Diamond Knot Brewing Company\"),\n",
    "    (\"Dirty Bucket Brewery / Locust Brewing\", \"Locust Brewing Company\"),\n",
    "    (\"Dirty Bucket Brewery\", \"Dirty Bucket Brewing Company\"),\n",
    "    (\"Dog and Pony Alehouse and Grill\", \"Dog and Pony Brewing Company\"),\n",
    "    (\"Dunagan Brewing Company\", \"Dunagan Irish Pub and Brewery\"),\n",
    "    (\"Dystopian State Brewing\", \"Dystopian State Brewing Company\"),\n",
    "    (\"E9 Brewing Co \", \"E9 Brewing Company\"),\n",
    "    (\"Engine House No 9\", \"E9 Brewing Company\"),\n",
    "    (\"Forward Operating Base Brewing Company / FOB Brewing\", \"Forward Operating Base Brewing Company\"),\n",
    "    (\"Genus Brewing / Nu Home Brew and Bottles\", \"Genus Brewing\"),\n",
    "    (\"Golden Handle Project\", \"Golden Handle Brewing Company\"),\n",
    "    (\"Hale's Ales Brewery and Pub\", \"Hale's Ales\"),\n",
    "    (\"Hookum Brewing Company\", \"Hookum Brewing Company \"),\n",
    "    (\"Locust Cider and Brewing Company\", \"Locust Brewing Company\"),\n",
    "    (\"North Fork Brewing Company\", \"North Fork Brewery\"),\n",
    "    (\"Pastime Brewery Bar and Grill\", \"Pastime Brewery\"),\n",
    "    (\"RAM/Big Horn Brewery\", \"RAM Restaurant and Brewery\"),\n",
    "    (\"Rattlesnake Mountain Brewery / Kimo's Restaurant\", \"Rattlesnake Mountain Brewing Company\"),\n",
    "    (\"Resonate Brewery + Pizzeria\", \"Resonate Brewery and Pizzeria\"),\n",
    "    (\"Schooner Brewing Company\", \"Schooner Exact Brewing Company\"),\n",
    "    (\"Skagit River Brewery\", \"Skagit River Brewing Company\"),\n",
    "    (\"Snipes Mountain Brewing Company\", \"Snipes Mountain Brewing\"),\n",
    "    (\"Sound To Summit\", \"Sound To Summit Brewing\"),\n",
    "    (\"Steam Plant Grill\", \"Steam Plant Brewing Company\"),\n",
    "    (\"Terramar\", \"Terramar Brewing and Distilling\"),\n",
    "    (\"Triceratops Brewing\", \"Triceratops Brewing Company\"),\n",
    "    (\"TTs Old Iron Brewery\", \"TT's Old Iron Brewery\"),\n",
    "    (\"Walking Man Brewing Company\", \"Walking Man Brewing\")]\n",
    "match3 = pd.DataFrame(match3list, columns =['brewery_production','brewery_name'])"
   ]
  },
  {
   "cell_type": "code",
   "execution_count": 12,
   "id": "23a0086c",
   "metadata": {},
   "outputs": [],
   "source": [
    "# rest are not in 2022 data so use existing names\n",
    "not_match3 = np.setdiff1d(not_match, match3['brewery_production'].unique()).tolist()\n",
    "match4 = pd.DataFrame(list(zip(iter(not_match3), iter(not_match3))), \n",
    "                      columns =['brewery_production','brewery_name'])"
   ]
  },
  {
   "cell_type": "code",
   "execution_count": 13,
   "id": "e7050804",
   "metadata": {},
   "outputs": [
    {
     "data": {
      "text/html": [
       "<div>\n",
       "<style scoped>\n",
       "    .dataframe tbody tr th:only-of-type {\n",
       "        vertical-align: middle;\n",
       "    }\n",
       "\n",
       "    .dataframe tbody tr th {\n",
       "        vertical-align: top;\n",
       "    }\n",
       "\n",
       "    .dataframe thead th {\n",
       "        text-align: right;\n",
       "    }\n",
       "</style>\n",
       "<table border=\"1\" class=\"dataframe\">\n",
       "  <thead>\n",
       "    <tr style=\"text-align: right;\">\n",
       "      <th></th>\n",
       "      <th>brewery_production</th>\n",
       "      <th>brewery_name</th>\n",
       "    </tr>\n",
       "  </thead>\n",
       "  <tbody>\n",
       "    <tr>\n",
       "      <th>0</th>\n",
       "      <td>5 North Brewing Company</td>\n",
       "      <td>5 North Brewing Company</td>\n",
       "    </tr>\n",
       "    <tr>\n",
       "      <th>1</th>\n",
       "      <td>7 Seas Brewing Company</td>\n",
       "      <td>7 Seas Brewing Company</td>\n",
       "    </tr>\n",
       "    <tr>\n",
       "      <th>2</th>\n",
       "      <td>Acorn Brewing</td>\n",
       "      <td>Acorn Brewing</td>\n",
       "    </tr>\n",
       "    <tr>\n",
       "      <th>3</th>\n",
       "      <td>Airways Brewing Company</td>\n",
       "      <td>Airways Brewing Company</td>\n",
       "    </tr>\n",
       "    <tr>\n",
       "      <th>4</th>\n",
       "      <td>Ashtown Brewing Company</td>\n",
       "      <td>Ashtown Brewing Company</td>\n",
       "    </tr>\n",
       "  </tbody>\n",
       "</table>\n",
       "</div>"
      ],
      "text/plain": [
       "        brewery_production             brewery_name\n",
       "0  5 North Brewing Company  5 North Brewing Company\n",
       "1   7 Seas Brewing Company   7 Seas Brewing Company\n",
       "2            Acorn Brewing            Acorn Brewing\n",
       "3  Airways Brewing Company  Airways Brewing Company\n",
       "4  Ashtown Brewing Company  Ashtown Brewing Company"
      ]
     },
     "execution_count": 13,
     "metadata": {},
     "output_type": "execute_result"
    }
   ],
   "source": [
    "# compile match table\n",
    "dfs = [match1, match2, match3, match4]\n",
    "name_match_df = pd.concat(dfs)\n",
    "\n",
    "name_match_df.head()"
   ]
  },
  {
   "cell_type": "code",
   "execution_count": 19,
   "id": "956dbc02",
   "metadata": {},
   "outputs": [
    {
     "data": {
      "text/html": [
       "<div>\n",
       "<style scoped>\n",
       "    .dataframe tbody tr th:only-of-type {\n",
       "        vertical-align: middle;\n",
       "    }\n",
       "\n",
       "    .dataframe tbody tr th {\n",
       "        vertical-align: top;\n",
       "    }\n",
       "\n",
       "    .dataframe thead th {\n",
       "        text-align: right;\n",
       "    }\n",
       "</style>\n",
       "<table border=\"1\" class=\"dataframe\">\n",
       "  <thead>\n",
       "    <tr style=\"text-align: right;\">\n",
       "      <th></th>\n",
       "      <th>brewery_name</th>\n",
       "      <th>year</th>\n",
       "      <th>estimate</th>\n",
       "      <th>annual_production</th>\n",
       "    </tr>\n",
       "  </thead>\n",
       "  <tbody>\n",
       "    <tr>\n",
       "      <th>0</th>\n",
       "      <td>101 Brewery</td>\n",
       "      <td>2019</td>\n",
       "      <td>1</td>\n",
       "      <td>41</td>\n",
       "    </tr>\n",
       "    <tr>\n",
       "      <th>1</th>\n",
       "      <td>122 West Brewing Company</td>\n",
       "      <td>2019</td>\n",
       "      <td>1</td>\n",
       "      <td>165</td>\n",
       "    </tr>\n",
       "    <tr>\n",
       "      <th>2</th>\n",
       "      <td>192 Brewing Company</td>\n",
       "      <td>2019</td>\n",
       "      <td>1</td>\n",
       "      <td>209</td>\n",
       "    </tr>\n",
       "    <tr>\n",
       "      <th>3</th>\n",
       "      <td>192 Brewing</td>\n",
       "      <td>2019</td>\n",
       "      <td>1</td>\n",
       "      <td>209</td>\n",
       "    </tr>\n",
       "    <tr>\n",
       "      <th>4</th>\n",
       "      <td>20 Corners Brewing Company</td>\n",
       "      <td>2019</td>\n",
       "      <td>1</td>\n",
       "      <td>1,722</td>\n",
       "    </tr>\n",
       "  </tbody>\n",
       "</table>\n",
       "</div>"
      ],
      "text/plain": [
       "                 brewery_name  year  estimate annual_production\n",
       "0                 101 Brewery  2019         1                41\n",
       "1    122 West Brewing Company  2019         1               165\n",
       "2         192 Brewing Company  2019         1               209\n",
       "3                 192 Brewing  2019         1               209\n",
       "4  20 Corners Brewing Company  2019         1             1,722"
      ]
     },
     "execution_count": 19,
     "metadata": {},
     "output_type": "execute_result"
    }
   ],
   "source": [
    "# merge back into production data\n",
    "brewery_production_2017_2019 = prod.merge(name_match_df, \n",
    "                                          how='left', left_on='brewery', right_on='brewery_production')\n",
    "cols = ['brewery_name','year','estimate','annual_production']\n",
    "brewery_production_2017_2019 = brewery_production_2017_2019[cols]"
   ]
  },
  {
   "cell_type": "code",
   "execution_count": null,
   "id": "72ec1fd6",
   "metadata": {},
   "outputs": [],
   "source": [
    "# save as csv\n",
    "brewery_production_2017_2019.to_csv('Data/brewery_production_2017_2019', index=False) "
   ]
  }
 ],
 "metadata": {
  "kernelspec": {
   "display_name": "Python 3 (ipykernel)",
   "language": "python",
   "name": "python3"
  },
  "language_info": {
   "codemirror_mode": {
    "name": "ipython",
    "version": 3
   },
   "file_extension": ".py",
   "mimetype": "text/x-python",
   "name": "python",
   "nbconvert_exporter": "python",
   "pygments_lexer": "ipython3",
   "version": "3.11.5"
  }
 },
 "nbformat": 4,
 "nbformat_minor": 5
}
